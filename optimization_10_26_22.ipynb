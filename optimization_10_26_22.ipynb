{
  "cells": [
    {
      "cell_type": "markdown",
      "metadata": {
        "id": "0m5JnUV30Vjt"
      },
      "source": [
        "# Import libraries"
      ]
    },
    {
      "cell_type": "code",
      "execution_count": null,
      "metadata": {
        "id": "iZN2u5WKRFqR"
      },
      "outputs": [],
      "source": [
        "import torch\n",
        "\n",
        "import os\n",
        "import random\n",
        "import pandas\n",
        "import numpy\n",
        "import math\n",
        "from scipy.optimize import curve_fit\n",
        "from scipy.interpolate import interp1d\n",
        "from scipy.interpolate import UnivariateSpline\n",
        "import imageio\n",
        "\n",
        "import matplotlib.pyplot as plt\n",
        "import matplotlib.patches as patches\n",
        "from matplotlib import style\n",
        "import matplotlib.font_manager\n",
        "\n",
        "# seed = 7777\n",
        "# random.seed(seed) \n",
        "# torch.manual_seed(seed);"
      ]
    },
    {
      "cell_type": "code",
      "execution_count": null,
      "metadata": {
        "id": "Kc0NV7P40Vjy"
      },
      "outputs": [],
      "source": [
        "# pair_no = 1\n",
        "# BASE_PATH = \"drive/MyDrive/\"\n",
        "# RESULT_PATH = \"optimization_result/\"+str(pair_no)+\"_SplineFit/\"\n",
        "# FULL_PATH = BASE_PATH + RESULT_PATH"
      ]
    },
    {
      "cell_type": "code",
      "execution_count": null,
      "metadata": {
        "id": "oS2YO-1H0Vj0"
      },
      "outputs": [],
      "source": [
        "# pairs = []\n",
        "# file1 = open(BASE_PATH + 'dwpt_v5/pairs.txt', 'r')\n",
        "# lines = file1.readlines()\n",
        "# for line in lines:\n",
        "#     pairs.append([int(i) for i in line.strip().split(',')])\n",
        "# pair = pairs[pair_no]\n",
        "# print(pair)"
      ]
    },
    {
      "cell_type": "code",
      "source": [
        "!pip install SciencePlots"
      ],
      "metadata": {
        "colab": {
          "base_uri": "https://localhost:8080/"
        },
        "id": "SAiQqoxi1kAo",
        "outputId": "c648d6e0-56f8-4fc8-e1e6-f72ffe4605f3"
      },
      "execution_count": null,
      "outputs": [
        {
          "output_type": "stream",
          "name": "stdout",
          "text": [
            "Looking in indexes: https://pypi.org/simple, https://us-python.pkg.dev/colab-wheels/public/simple/\n",
            "Requirement already satisfied: SciencePlots in /usr/local/lib/python3.7/dist-packages (1.0.9)\n",
            "Requirement already satisfied: matplotlib in /usr/local/lib/python3.7/dist-packages (from SciencePlots) (3.2.2)\n",
            "Requirement already satisfied: cycler>=0.10 in /usr/local/lib/python3.7/dist-packages (from matplotlib->SciencePlots) (0.11.0)\n",
            "Requirement already satisfied: pyparsing!=2.0.4,!=2.1.2,!=2.1.6,>=2.0.1 in /usr/local/lib/python3.7/dist-packages (from matplotlib->SciencePlots) (3.0.9)\n",
            "Requirement already satisfied: numpy>=1.11 in /usr/local/lib/python3.7/dist-packages (from matplotlib->SciencePlots) (1.21.6)\n",
            "Requirement already satisfied: python-dateutil>=2.1 in /usr/local/lib/python3.7/dist-packages (from matplotlib->SciencePlots) (2.8.2)\n",
            "Requirement already satisfied: kiwisolver>=1.0.1 in /usr/local/lib/python3.7/dist-packages (from matplotlib->SciencePlots) (1.4.4)\n",
            "Requirement already satisfied: typing-extensions in /usr/local/lib/python3.7/dist-packages (from kiwisolver>=1.0.1->matplotlib->SciencePlots) (4.1.1)\n",
            "Requirement already satisfied: six>=1.5 in /usr/local/lib/python3.7/dist-packages (from python-dateutil>=2.1->matplotlib->SciencePlots) (1.15.0)\n"
          ]
        }
      ]
    },
    {
      "cell_type": "markdown",
      "metadata": {
        "id": "B-Kd3dIE0Vj1"
      },
      "source": [
        "# Load Saved MP (Magnetic Parameter) Model"
      ]
    },
    {
      "cell_type": "code",
      "execution_count": null,
      "metadata": {
        "id": "B-TMPJtCKIM6"
      },
      "outputs": [],
      "source": [
        "# 12 input -> 42 output\n",
        "class MpModel(torch.nn.Module):\n",
        "    def __init__(self):\n",
        "        super(MpModel, self).__init__()\n",
        "\n",
        "        self.linear1 = torch.nn.Linear(12, 100, bias=True)\n",
        "        self.linear2 = torch.nn.Linear(100, 100, bias=True)\n",
        "        self.linear3 = torch.nn.Linear(100, 42, bias=True)\n",
        "\n",
        "    def forward(self, x):\n",
        "        x = torch.atan(self.linear1(x))\n",
        "        x = torch.atan(self.linear2(x))\n",
        "        x = torch.atan(self.linear2(x))\n",
        "        x = self.linear3(x)\n",
        "        return x\n",
        "\n",
        "\n",
        "mp_model = MpModel().to(\"cuda\")\n",
        "mp_model.load_state_dict(torch.load(\"saved_model_state.pt\"))\n",
        "\n",
        "for param in mp_model.parameters():\n",
        "    param.requires_grad = False"
      ]
    },
    {
      "cell_type": "markdown",
      "metadata": {
        "id": "7q4wHhFd0Vj3"
      },
      "source": [
        "# Create GP (Geometry Paramter) Generator"
      ]
    },
    {
      "cell_type": "code",
      "execution_count": null,
      "metadata": {
        "id": "z9cggAl1BGHo",
        "colab": {
          "base_uri": "https://localhost:8080/"
        },
        "outputId": "8b9bbb55-3b81-4b15-cabc-0f70a6d58fec"
      },
      "outputs": [
        {
          "output_type": "stream",
          "name": "stderr",
          "text": [
            "/usr/local/lib/python3.7/dist-packages/torch/nn/modules/lazy.py:178: UserWarning: Lazy modules are a new feature under heavy development so changes to the API or functionality can happen at any moment.\n",
            "  warnings.warn('Lazy modules are a new feature under heavy development '\n"
          ]
        }
      ],
      "source": [
        "class GpModel(torch.nn.Module):\n",
        "    def __init__(self, input_length: int):\n",
        "        super(GpModel, self).__init__()\n",
        "\n",
        "        self.dense_layer1 = torch.nn.Linear(int(input_length), 128)\n",
        "        self.dense_layer2 = torch.nn.Linear(128, 256)\n",
        "        # self.dense_layer3 = torch.nn.Linear(256, 512)\n",
        "        # self.dense_layer4 = torch.nn.Linear(512, 256)\n",
        "        self.dense_layer5 = torch.nn.Linear(256, 128)\n",
        "        self.dense_layer6 = torch.nn.Linear(128, int(input_length))\n",
        "        \n",
        "        self.batch_norm1 = torch.nn.LazyBatchNorm1d()\n",
        "        self.batch_norm2 = torch.nn.LazyBatchNorm1d()\n",
        "        self.batch_norm3 = torch.nn.LazyBatchNorm1d()\n",
        "        self.batch_norm4 = torch.nn.LazyBatchNorm1d()\n",
        "        self.batch_norm5 = torch.nn.LazyBatchNorm1d()\n",
        "\n",
        "    def forward(self, x):\n",
        "        x = self.batch_norm1(torch.atan(self.dense_layer1(x)))\n",
        "        x = self.batch_norm2(torch.atan(self.dense_layer2(x)))\n",
        "        # x = self.batch_norm3(torch.atan(self.dense_layer3(x)))\n",
        "        # x = self.batch_norm4(torch.atan(self.dense_layer4(x)))\n",
        "        x = self.batch_norm5(torch.atan(self.dense_layer5(x)))\n",
        "        x = torch.sigmoid(self.dense_layer6(x))\n",
        "        return x\n",
        "\n",
        "\n",
        "gp_model = GpModel(10).to(\"cuda\")\n",
        "optimizer = torch.optim.Adam(gp_model.parameters(), lr=3e-4)"
      ]
    },
    {
      "cell_type": "markdown",
      "metadata": {
        "id": "hyDsTMP10Vj6"
      },
      "source": [
        "# System Constraints"
      ]
    },
    {
      "cell_type": "code",
      "execution_count": null,
      "metadata": {
        "id": "Bse1wsKN1NxY"
      },
      "outputs": [],
      "source": [
        "# x-direction of the primary winding (mm)\n",
        "lpx_min, lpx_max = (50.0, 650.0)\n",
        "\n",
        "# y-direction of the primary winding (mm)\n",
        "lpy_min, lpy_max = (50.0, 2050.0)\n",
        "\n",
        "# width of the primary winding (mm)\n",
        "wp_min, wp_max = (25.0, 325.0)\n",
        "\n",
        "# length of the edge of the primary core (mm)\n",
        "a_min, a_max = (0.0, 200.0)\n",
        "\n",
        "# pitch of the adjacent cores (mm)\n",
        "p_min, p_max = (0.0, 200.0)\n",
        "\n",
        "# length of the secondary winding (mm)\n",
        "ls_min, ls_max = (50.0, 450.0)\n",
        "\n",
        "# width of the secondary winding (mm)\n",
        "ws_min, ws_max = (25.0, 225.0)\n",
        "\n",
        "# input RMS current (A)\n",
        "ip_min, ip_max = (50.0, 200.0)\n",
        "\n",
        "# turn number of the primary side\n",
        "np_min, np_max = (4.0, 10.0)\n",
        "\n",
        "# turn number of the secondary side\n",
        "ns_min, ns_max = (4.0, 10.0)\n",
        "\n",
        "# switching frequency (kHz)\n",
        "f = 85 * (10 ** 3)\n",
        "\n",
        "# output power at the center (kW)\n",
        "p_out = 50 * (10 ** 3)\n",
        "\n",
        "# input DC voltage (V)\n",
        "v_dc = 400\n",
        "\n",
        "# output DC voltage (V)\n",
        "v_bat = 400\n",
        "\n",
        "# length of the edge of the secondary core\n",
        "b = 50\n",
        "\n",
        "# ???\n",
        "w = 2 * numpy.pi * f  # [rad/s]\n",
        "\n",
        "# ???\n",
        "q_coil = 400"
      ]
    },
    {
      "cell_type": "markdown",
      "metadata": {
        "id": "Mhkb7n2t0Vj9"
      },
      "source": [
        "# Helper functions"
      ]
    },
    {
      "cell_type": "code",
      "execution_count": null,
      "metadata": {
        "id": "brlwMfzj1Nxh"
      },
      "outputs": [],
      "source": [
        "# Creates a tensor of shape [num, *start.shape] whose values are evenly spaced from start to end, inclusive.\n",
        "# Replicates but the multi-dimensional bahaviour of numpy.linspace in PyTorch.\n",
        "\n",
        "@torch.jit.script\n",
        "def linspace(start: torch.Tensor, stop: torch.Tensor, num: int):\n",
        "    # create a tensor of 'num' steps from 0 to 1\n",
        "    steps = torch.arange(num, dtype=torch.float32, device=start.device) / (num - 1)\n",
        "\n",
        "    # reshape the 'steps' tensor to [-1, *([1]*start.ndim)] to allow for broadcastings\n",
        "    # - using 'steps.reshape([-1, *([1]*start.ndim)])' would be nice here but torchscript\n",
        "    #   \"cannot statically infer the expected size of a list in this contex\", hence the code below\n",
        "    for i in range(start.ndim):\n",
        "        steps = steps.unsqueeze(-1)\n",
        "\n",
        "    # the output starts at 'start' and increments until 'stop' in each dimension\n",
        "    out = start[None] + steps * (stop - start)[None]\n",
        "\n",
        "    return out"
      ]
    },
    {
      "cell_type": "code",
      "execution_count": null,
      "metadata": {
        "id": "dMoXnTFV8U1P"
      },
      "outputs": [],
      "source": [
        "# Generate a pytorch tensor full of random floats in the range [-1, +1] with the given shape\n",
        "\n",
        "def generate_noise(shape):\n",
        "    return torch.distributions.uniform.Uniform(-1, +1).sample(shape).cuda()"
      ]
    },
    {
      "cell_type": "code",
      "execution_count": null,
      "metadata": {
        "id": "xloGE25R8Jtm"
      },
      "outputs": [],
      "source": [
        "def stack_parameters(*params):\n",
        "    return torch.stack(params).transpose(0, 1)\n",
        "\n",
        "\n",
        "# Scale an array to be between our specified [min, max] contraints\n",
        "def scale(arr):\n",
        "    scaler_min = torch.tensor(\n",
        "        [a_min, lpx_min, lpy_min, ls_min, p_min, wp_min, ws_min, ip_min, np_min, ns_min],\n",
        "        device=\"cuda\",\n",
        "    )\n",
        "    scaler_max = torch.tensor(\n",
        "        [a_max, lpx_max, lpy_max, ls_max, p_max, wp_max, ws_max, ip_max, np_max, ns_max],\n",
        "        device=\"cuda\",\n",
        "    )\n",
        "\n",
        "    return arr * (scaler_max - scaler_min) + scaler_min\n",
        "\n",
        "\n",
        "def extract(arr):\n",
        "    a, lpx, lpy, ls, p, wp, ws, ip, np, ns = [\n",
        "        numpy.squeeze(x) for x in numpy.hsplit(arr, 10)\n",
        "    ]\n",
        "\n",
        "    ys_min = (\n",
        "        5 * wp +\n",
        "        4 * a +\n",
        "        3 * lpy +\n",
        "        2 * p\n",
        "    )\n",
        "\n",
        "    ys_max = (lpy + wp)\n",
        "    ys_max = ys_min + (ys_min - ys_max) / 2\n",
        "\n",
        "    ys_min /= 2\n",
        "    ys_max /= 2\n",
        "\n",
        "    ys = linspace(ys_min, ys_max, num=5)\n",
        "\n",
        "    np = torch.round(np)\n",
        "    ns = torch.round(ns)\n",
        "\n",
        "    # take all 15 tensors of shape (X) and convert to (15, X)\n",
        "    return a, lpx, lpy, ls, p, wp, ws, ip, np, ns, ys\n",
        "\n",
        "\n",
        "def scale_and_extract(arr):\n",
        "    scaled_array = scale(arr)\n",
        "    return extract(scaled_array)"
      ]
    },
    {
      "cell_type": "code",
      "execution_count": null,
      "metadata": {
        "colab": {
          "base_uri": "https://localhost:8080/"
        },
        "id": "44TlTSnclCKs",
        "outputId": "a553023a-072d-45da-f38c-0f11d1a04cea"
      },
      "outputs": [
        {
          "output_type": "stream",
          "name": "stdout",
          "text": [
            "\n",
            "    GP Parameters Shape:    torch.Size([256, 12])\n",
            "    Extra Parameters Shape: torch.Size([256, 3])\n",
            "    MP Model Output Shape:  torch.Size([256, 42])\n",
            "    \n"
          ]
        }
      ],
      "source": [
        "# Enclose in a function so we don't leak variables\n",
        "def test_models():\n",
        "    noise = generate_noise(shape=(256, 10))\n",
        "    gp = gp_model(noise)\n",
        "    a, lpx, lpy, ls, p, wp, ws, ip, np, ns, ys = scale_and_extract(gp)\n",
        "\n",
        "    gp_parameters = stack_parameters(a, lpx, lpy, ls, p, wp, ws, *ys)\n",
        "    extra_parameters = stack_parameters(ip, np, ns)\n",
        "\n",
        "    mp = mp_model(gp_parameters)\n",
        "\n",
        "    print(f\"\"\"\n",
        "    GP Parameters Shape:    {gp_parameters.shape}\n",
        "    Extra Parameters Shape: {extra_parameters.shape}\n",
        "    MP Model Output Shape:  {mp.shape}\n",
        "    \"\"\")\n",
        "test_models()"
      ]
    },
    {
      "cell_type": "code",
      "execution_count": null,
      "metadata": {
        "id": "eEb7J5bOFEEr"
      },
      "outputs": [],
      "source": [
        "\"\"\"\n",
        "Method to take two equally-sized lists and return just the elements which lie \n",
        "on the Pareto frontier, sorted into order.\n",
        "Default behaviour is to find the maximum for both X and Y, but the option is\n",
        "available to specify maxX = False or maxY = False to find the minimum for either\n",
        "or both of the parameters.\n",
        "\"\"\"\n",
        "\n",
        "\n",
        "def pareto_frontier(x, y, max_x=False):\n",
        "    if max_x:\n",
        "        return _pareto_frontier(y, x)\n",
        "    else:\n",
        "        return _pareto_frontier(x, y)\n",
        "\n",
        "\n",
        "def _pareto_frontier(x, y):\n",
        "    # Combine inputs and sort them with smallest X values coming first\n",
        "    sorted_xy = sorted(zip(x, y))\n",
        "    p_front_x = torch.zeros(len(x), device=\"cuda\")\n",
        "    p_front_y = torch.zeros(len(y), device=\"cuda\")\n",
        "    \n",
        "    # Loop through the sorted list\n",
        "    #   Look for lower values of Y…\n",
        "    #   and add them to the Pareto frontier\n",
        "    min_y = sorted_xy[0][1]\n",
        "    for index in range(len(sorted_xy)):\n",
        "        x, y = sorted_xy[index]\n",
        "        if y < min_y:\n",
        "            min_y = y\n",
        "            p_front_x[index] = x\n",
        "            p_front_y[index] = y\n",
        "            \n",
        "    p_front_x = p_front_x[p_front_x.nonzero()]\n",
        "    p_front_y = p_front_y[p_front_y.nonzero()]\n",
        "\n",
        "    return p_front_x, p_front_y"
      ]
    },
    {
      "cell_type": "code",
      "execution_count": null,
      "metadata": {
        "id": "TUybqb910VkC"
      },
      "outputs": [],
      "source": [
        "#testing for creating total pareto f\n",
        "\n",
        "def oldgraph_pareto_frontier(Xs, Ys, maxX = False, maxY = False):\n",
        "# Sort the list in either ascending or descending order of X\n",
        "    myList = sorted([[Xs[i], Ys[i]] for i in range(len(Xs))], reverse=maxX)\n",
        "# Start the Pareto frontier with the first value in the sorted list\n",
        "    p_front = [myList[0]]    \n",
        "# Loop through the sorted list\n",
        "    for pair in myList[1:]:\n",
        "        if pair[1] <= p_front[-1][1]: # Look for lower values of Y…\n",
        "            p_front.append(pair) # … and add them to the Pareto frontier\n",
        "# Turn resulting pairs back into a list of Xs and Ys\n",
        "    p_frontX = [pair[0] for pair in p_front]\n",
        "    p_frontY = [pair[1] for pair in p_front]\n",
        "    return p_frontX, p_frontY"
      ]
    },
    {
      "cell_type": "code",
      "execution_count": null,
      "metadata": {
        "id": "aNSYKyZn0VkD"
      },
      "outputs": [],
      "source": [
        "def findSpline(x, y, smoothing_factor = 2):\n",
        "    spl = UnivariateSpline(x, y)\n",
        "    spl.set_smoothing_factor(smoothing_factor)\n",
        "    return spl"
      ]
    },
    {
      "cell_type": "code",
      "execution_count": null,
      "metadata": {
        "id": "7kYGHbkc0VkD"
      },
      "outputs": [],
      "source": [
        "def pair_loss_calc(x, y, x_numpy, y_numpy, pareto_x_numpy, pareto_y_numpy, pareto_x_forx_numpy, pareto_y_forx_numpy):\n",
        "    if len(pareto_y_numpy) > 3:\n",
        "        # f = interp1d(pareto_bstray_numpy[:,0], pareto_kdiff_numpy[:,0])\n",
        "        # f2 = interp1d(pareto_bstray_numpy[:,0], pareto_kdiff_numpy[:,0], kind = 'cubic')\n",
        "        # plt.plot(pareto_bstray_numpy[:,0], f2(pareto_bstray_numpy[:,0]), '--', pareto_bstray_numpy, pareto_kdiff_numpy, 'o')\n",
        "\n",
        "\n",
        "        spl_y = findSpline(pareto_x_numpy[:,0], pareto_y_numpy[:,0])\n",
        "        y_calc = torch.as_tensor(spl_y(x_numpy)).cuda()\n",
        "        # plt.plot(pareto_bstray_numpy[:,0], spl_y(pareto_bstray_numpy[:,0]), '--', pareto_bstray_fory_numpy, pareto_kdiff_fory_numpy, 'o')\n",
        "        # plt.show()\n",
        "        y_loss = y - y_calc\n",
        "        y_loss_relu = torch.nn.functional.relu(y_loss)\n",
        "\n",
        "\n",
        "        spl_x = findSpline(pareto_y_forx_numpy[:,0], pareto_x_forx_numpy[:,0])\n",
        "        # plt.plot(spl_x(pareto_kdiff_fory_numpy[:,0]), pareto_kdiff_fory_numpy[:,0], '--', pareto_bstray_fory_numpy, pareto_kdiff_fory_numpy,  'o')\n",
        "        # plt.show()\n",
        "\n",
        "\n",
        "        x_calc = torch.as_tensor(spl_x(y_numpy)).cuda()\n",
        "        x_loss = x - x_calc\n",
        "        x_loss_relu = torch.nn.functional.relu(x_loss)\n",
        "       \n",
        "\n",
        "    if len(pareto_x_numpy) > 3 and len(pareto_y_numpy) > 3:\n",
        "        combined_loss = torch.sum(y_loss_relu * x_loss_relu)\n",
        "    else: \n",
        "        combined_loss = torch.zeros(1, requires_grad=True, device = \"cuda\")\n",
        "        # print('No new pareto points found, used zero grad')\n",
        "    \n",
        "    \n",
        "    return combined_loss"
      ]
    },
    {
      "cell_type": "code",
      "execution_count": null,
      "metadata": {
        "id": "aRaOChQS0VkE"
      },
      "outputs": [],
      "source": [
        "def compute_pairloss_and_pareto(x, y):\n",
        "    \n",
        "    pareto_x, pareto_y = pareto_frontier(x, y)\n",
        "    pareto_y_forx, pareto_x_forx = pareto_frontier(y, x)\n",
        "    \n",
        "    pareto_x_numpy = pareto_x.cpu().data.numpy()\n",
        "    pareto_y_numpy = pareto_y.cpu().data.numpy()\n",
        "    \n",
        "    pareto_x_forx_numpy = pareto_x_forx.cpu().data.numpy()\n",
        "    pareto_y_forx_numpy = pareto_y_forx.cpu().data.numpy()\n",
        "    \n",
        "    x_numpy = x.cpu().data.numpy()\n",
        "    y_numpy = y.cpu().data.numpy()\n",
        "    \n",
        "    x_y_loss = pair_loss_calc(x, y, x_numpy, y_numpy, pareto_x_numpy, pareto_y_numpy, pareto_x_forx_numpy, pareto_y_forx_numpy)\n",
        "    \n",
        "    return x_y_loss, pareto_x, pareto_y, x_numpy, y_numpy, pareto_x_numpy, pareto_y_numpy, pareto_x_forx_numpy, pareto_y_forx_numpy"
      ]
    },
    {
      "cell_type": "code",
      "execution_count": null,
      "metadata": {
        "id": "fMOOibBt0VkE"
      },
      "outputs": [],
      "source": [
        "def pave_tomax(pavemin, pave_max_value=10000):\n",
        "    pave_max = torch.sub(pave_max_value, pavemin)\n",
        "    return pave_max"
      ]
    },
    {
      "cell_type": "markdown",
      "metadata": {
        "id": "4xTV--hM0VkE"
      },
      "source": [
        "# Load DWPT data"
      ]
    },
    {
      "cell_type": "code",
      "execution_count": null,
      "metadata": {
        "id": "jkTrlAJMH5UO",
        "colab": {
          "base_uri": "https://localhost:8080/"
        },
        "outputId": "c852e6d6-2080-4755-fecb-72b06660c854"
      },
      "outputs": [
        {
          "output_type": "stream",
          "name": "stdout",
          "text": [
            "(1010, 12)\n",
            "(1010, 42)\n"
          ]
        }
      ],
      "source": [
        "def load_dwpt():\n",
        "    folder_name = \"./dwpt_v5\"\n",
        "    file_names = [\n",
        "        \"DWPT_v5_N10\",\n",
        "        \"DWPT_v5_N100\",\n",
        "        \"DWPT_v5_N200\",\n",
        "        \"DWPT_v5_N300\",\n",
        "        \"DWPT_v5_N400\",\n",
        "    ]\n",
        "\n",
        "    df = pandas.DataFrame()\n",
        "\n",
        "    for file_name in file_names:\n",
        "        new_df = pandas.read_csv(f\"{folder_name}/{file_name}_after.csv\", index_col=0)\n",
        "        df = pandas.concat([df, new_df])\n",
        "\n",
        "    return df\n",
        "\n",
        "df = load_dwpt()\n",
        "df_gp = df.loc[:, :\"ys4[mm]\"]\n",
        "df_mp = df.loc[:, \"k0mm_ys0\":]\n",
        "\n",
        "print(df_gp.shape)\n",
        "print(df_mp.shape)"
      ]
    },
    {
      "cell_type": "markdown",
      "metadata": {
        "id": "8GULefwA0VkF"
      },
      "source": [
        "# Define Loss Functions"
      ]
    },
    {
      "cell_type": "code",
      "execution_count": null,
      "metadata": {
        "id": "JxyuSPg-0VkG"
      },
      "outputs": [],
      "source": [
        "import math\n",
        "f = 85*10**3 #[Hz]\n",
        "w =2*math.pi*f #[rad/s]\n",
        "Pout= 50000 #W\n",
        "Vdc = 400 #800 # V\n",
        "Vbat = 400 #V\n",
        "QCoil = 400\n",
        "b = 50"
      ]
    },
    {
      "cell_type": "code",
      "execution_count": null,
      "metadata": {
        "id": "OtVLwoEF0VkH"
      },
      "outputs": [],
      "source": [
        "def kdiff_loss(k_parameters):\n",
        "    (\n",
        "        k_0_0, k_0_1, k_0_2, k_0_3, k_0_4, k_1_0,\n",
        "    ) = k_parameters\n",
        "\n",
        "    kdiff = abs(k_0_0 - k_1_0)\n",
        "    kdiff = kdiff / torch.max(abs(k_0_0), abs(k_1_0))\n",
        "\n",
        "    return kdiff\n",
        "\n",
        "def calculate_Is(l_parameters, k_parameters):\n",
        "    (\n",
        "        k_0_0, k_0_1, k_0_2, k_0_3, k_0_4, k_1_0,\n",
        "    ) = k_parameters\n",
        "    (\n",
        "        lp_0_0, lp_0_1, lp_0_2, lp_0_3, lp_0_4,\n",
        "        ls_0_0, ls_0_1, ls_0_2, ls_0_3, ls_0_4,\n",
        "        lp_1_0, ls_1_0,\n",
        "    ) = l_parameters\n",
        "\n",
        "    a6 = lp_0_0 * np ** 2\n",
        "    a11 = ls_0_0 * ns ** 2\n",
        "  # Paper formula\n",
        "    n1 = (torch.pi * w * a6 * ip) / (2*numpy.sqrt(2) * v_dc)\n",
        "    t1 = (torch.pi ** 2 * w * p_out * torch.sqrt(a6 * a11))\n",
        "    t2 = 8 * k_0_0 * n1 * v_dc * v_bat\n",
        "    n2 = t1 / t2\n",
        "    Is = (4 * v_bat * n2) / (torch.pi * w * a11)\n",
        "\n",
        "    return Is\n",
        "  \n",
        "def bstray_loss(k_parameters, l_parameters, b_parameters, extra_parameters):\n",
        "    # Unpack parameters\n",
        "    (\n",
        "        k_0_0, k_0_1, k_0_2, k_0_3, k_0_4, k_1_0,\n",
        "    ) = k_parameters\n",
        "    (\n",
        "        lp_0_0, lp_0_1, lp_0_2, lp_0_3, lp_0_4,\n",
        "        ls_0_0, ls_0_1, ls_0_2, ls_0_3, ls_0_4,\n",
        "        lp_1_0, ls_1_0,\n",
        "    ) = l_parameters\n",
        "    (\n",
        "        bx_p_0_00, by_p_0_00, bz_p_0_00,\n",
        "        bx_p_0_90, by_p_0_90, bz_p_0_90,\n",
        "        bx_s_0_00, by_s_0_00, bz_s_0_00,\n",
        "        bx_s_0_90, by_s_0_90, bz_s_0_90,\n",
        "\n",
        "        bx_p_1_00, by_p_1_00, bz_p_1_00,\n",
        "        bx_p_1_90, by_p_1_90, bz_p_1_90,\n",
        "        bx_s_1_00, by_s_1_00, bz_s_1_00,\n",
        "        bx_s_1_90, by_s_1_90, bz_s_1_90,\n",
        "    ) = b_parameters\n",
        "    (\n",
        "        ip, np, ns\n",
        "    ) = extra_parameters\n",
        "\n",
        "    Is = calculate_Is(l_parameters,k_parameters)\n",
        "\n",
        "    bx_100 = (\n",
        "        (bx_p_1_00 * ip * np + bx_s_1_00 * Is * ns) ** 2 +\n",
        "        (bx_p_1_90 * ip * np + bx_s_1_90 * Is * ns) ** 2\n",
        "    ) ** 0.5\n",
        "    by_100 = (\n",
        "        (by_p_1_00 * ip * np + by_s_1_00 * Is * ns) ** 2 +\n",
        "        (by_p_1_90 * ip * np + by_s_1_90 * Is * ns) ** 2\n",
        "    ) ** 0.5\n",
        "    bz_100 = (\n",
        "        (bz_p_1_00 * ip * np + bz_s_1_00 * Is * ns) ** 2 +\n",
        "        (bz_p_1_90 * ip * np + bz_s_1_90 * Is * ns) ** 2\n",
        "    ) ** 0.5\n",
        "    b_100 = (bx_100**2 + by_100**2 + bz_100**2) ** 0.5\n",
        "\n",
        "    bstray = b_100\n",
        "\n",
        "    return bstray"
      ]
    },
    {
      "cell_type": "code",
      "execution_count": null,
      "metadata": {
        "id": "t_zwe2h20VkI"
      },
      "outputs": [],
      "source": [
        "# import seaborn as sns\n",
        "# plt.style.use(['science','no-latex'])\n",
        "\n",
        "# fig_width = 8 #cm # Setting for Conference paper \n",
        "# fig_height = 3 #cm\n",
        "# font_size = 7 # pt\n",
        "# fig_update = True\n",
        "# marker_size = 5\n",
        "# x_tick_pad = 2\n",
        "# y_tick_pad = 2\n",
        "# x_label_pad = 0.5\n",
        "# y_label_pad = 1\n",
        "\n",
        "# def plot_(**kwargs):\n",
        "#     import numpy as np\n",
        "#     plt.close('all')\n",
        "#     kdiff = kwargs[\"kdiff\"] * 100\n",
        "#     pave = kwargs[\"pave\"] \n",
        "#     coilloss = kwargs[\"coilloss\"]\n",
        "#     bstray = kwargs[\"bstray\"]\n",
        "#     vpricore = kwargs[\"vpricore\"]\n",
        "#     vsecwind = kwargs[\"vsecwind\"]\n",
        "#     n_inv = kwargs[\"n_inv\"]\n",
        "#     vseccore = kwargs[\"vseccore\"]\n",
        "#     epoch = kwargs[\"epoch\"]\n",
        "\n",
        "#     marker_size = 60\n",
        "\n",
        "\n",
        "#     font = {'family' : 'normal',\n",
        "#           'weight' : 'bold',\n",
        "#           'size'   : 12}\n",
        "\n",
        "#     plt.rc('font', **font)\n",
        "\n",
        "#     #plt.style.use(['science','no-latex'])\n",
        "\n",
        "#     fig, (ax1, ax2, ax3,ax4) = plt.subplots(1, 4)\n",
        "\n",
        "#     #fig.subplots_adjust(hspace=10)\n",
        "\n",
        "#     fig.set_size_inches(16,4)\n",
        "#     #ax1.set_aspect('equal')\n",
        "#     #fig.tight_layout(pad=6)\n",
        "#     fig.tight_layout(pad = 2)\n",
        "\n",
        "#     xlim = 1 #Number of Inverter [1/m]\n",
        "#     ylim = 2000 #Coil loss [W] \n",
        "#     ax1.set_xlabel(r\"$Number\\ of\\ inverter\\ [1/m]$\", labelpad = x_label_pad)              # not shown\n",
        "#     ax1.set_ylabel(r'$Coil loss [W]$', labelpad = y_label_pad) # not shown\n",
        "#     x1 = np.arange(0, xlim + 0.1,0.1)\n",
        "#     y1 = 0\n",
        "#     y2 = ylim\n",
        "#     plt_ax1 = ax1.scatter(n_inv, coilloss, rasterized=True)\n",
        "#     #fig.colorbar(mappable = plt_ax1 , ax = ax1, label=r\"$B_{\\rm stray}~[\\rm \\mu T]$\")\n",
        "#     ax1.fill_between(x1, y1, y2 ,facecolor='r',alpha=0.3)\n",
        "#     ax1.plot([xlim, xlim], [0, ylim], 'r--', lw=0.5)  \n",
        "#     ax1.plot([0,xlim], [ylim, ylim], 'r--', lw=0.5) \n",
        "#     ax1.axis([0,2, 0,5000])\n",
        "#     ax1.tick_params(axis='x', pad=15)\n",
        "#     # ax1.set_aspect('equal')\n",
        "\n",
        "\n",
        "\n",
        "#     xlim = 40\n",
        "#     ylim = 15\n",
        "#     ax2.set_xlabel(r\"$B_{\\rm stray}~[\\rm \\mu T]$\", labelpad = x_label_pad)              # not shown\n",
        "#     ax2.set_ylabel(r'$Coupling [\\%]$', labelpad = y_label_pad) # not shown\n",
        "\n",
        "#     x1 = np.arange(0, xlim + 0.1, 0.1)\n",
        "#     y1 = 0\n",
        "#     y2 = ylim\n",
        "\n",
        "#     plt_ax2 = ax2.scatter(bstray, kdiff,rasterized=True)\n",
        "#     #fig.colorbar(mappable = plt_ax2 , ax = ax2, label=r\"$V_{PriCore}$\")\n",
        "#     ax2.fill_between(x1, y1, y2 ,facecolor='r',alpha=0.3)\n",
        "#     ax2.plot([xlim, xlim], [0, ylim], 'r--', lw=0.5)  \n",
        "#     ax2.plot([0,xlim], [ylim, ylim], 'r--', lw=0.5) \n",
        "#     ax2.axis([0, 100, 0, 50])\n",
        "#     ax2.tick_params(axis='x', pad=15)\n",
        "\n",
        "#     # ax2.set_aspect('equal')\n",
        "\n",
        "#     xlim = 3500\n",
        "#     ylim = 30\n",
        "\n",
        "#     ax3.set_xlabel(r\"$V_{SecCore}$\", labelpad = x_label_pad)              # not shown\n",
        "#     ax3.set_ylabel(r'$P_{ave} [KW/M]$', labelpad = y_label_pad) # not shown\n",
        "\n",
        "#     x1 = np.arange(0, xlim + 0.1, 0.1)\n",
        "#     y1 = ylim\n",
        "#     y2 = ylim*10\n",
        "\n",
        "#     plt_ax3 = ax3.scatter(vseccore, pave, rasterized=True)\n",
        "#     #fig.colorbar(mappable = plt_ax3 , ax = ax3, label=r\"$V_{SecWind}$\")\n",
        "#     ax3.fill_between(x1, y1, y2 ,facecolor='r',alpha=0.3)\n",
        "#     ax3.plot([xlim, xlim], [ylim, ylim*10], 'r--', lw=0.5)  \n",
        "#     ax3.plot([0,xlim], [ylim, ylim], 'r--', lw=0.5) \n",
        "#     ax3.axis([0, 5000, 0, 200])\n",
        "#     ax3.tick_params(axis='x', pad=15)\n",
        "#     # ax3.set_aspect('equal')\n",
        "\n",
        "\n",
        "#     xlim = 3500\n",
        "#     ylim = 6000\n",
        "\n",
        "#     ax4.set_xlabel(r\"$V_{SecCore}$\", labelpad = x_label_pad)              # not shown\n",
        "#     ax4.set_ylabel(r'$V_{PriCore} $', labelpad = y_label_pad) # not shown\n",
        "\n",
        "#     x1 = np.arange(0, xlim + 0.1, 0.1)\n",
        "#     y1 = 0\n",
        "#     y2 = ylim\n",
        "\n",
        "#     ax4.scatter(vseccore, vpricore, s=marker_size, cmap ='viridis',rasterized=True)\n",
        "#     #fig.colorbar(mappable = plt_ax3 , ax = ax3, label=r\"$V_{SecWind}$\")\n",
        "#     ax4.fill_between(x1, y1, y2 ,facecolor='r',alpha=0.3)\n",
        "#     ax4.plot([xlim, xlim], [0, ylim], 'r--', lw=0.5)  \n",
        "#     ax4.plot([0,xlim], [ylim, ylim], 'r--', lw=0.5) \n",
        "#     ax4.axis([0, 5000, 0, 7000])\n",
        "#     ax4.tick_params(axis='x', pad=15)\n",
        "\n",
        "#     plt.suptitle(\"Epoch \"+str(epoch), y = 1.05, c='r')\n",
        "#     # plt.savefig(\"images/\"+ str(epoch) +\".png\")\n",
        "#     plt.show()\n",
        "#     plt.clf()\n",
        "    \n",
        "  "
      ]
    },
    {
      "cell_type": "code",
      "execution_count": null,
      "metadata": {
        "id": "YfEV3Wwr0VkI"
      },
      "outputs": [],
      "source": [
        "import matplotlib\n",
        "import seaborn as sns\n",
        "\n",
        "fig_width = 8 #cm # Setting for Conference paper \n",
        "fig_height = 3 #cm\n",
        "font_size = 7 # pt\n",
        "fig_update = True\n",
        "marker_size = 5\n",
        "x_tick_pad = 2\n",
        "y_tick_pad = 2\n",
        "x_label_pad = 0.5\n",
        "y_label_pad = 1\n",
        "\n",
        "plt.style.use(['science','no-latex'])\n",
        "def plot_(**kwargs):\n",
        "    import numpy as np\n",
        "    plt.close('all')\n",
        "    kdiff = kwargs[\"kdiff\"] * 100\n",
        "    pave = kwargs[\"pave\"] \n",
        "    coilloss = kwargs[\"coilloss\"]\n",
        "    bstray = kwargs[\"bstray\"]\n",
        "    vpricore = kwargs[\"vpricore\"]\n",
        "    vsecwind = kwargs[\"vsecwind\"]\n",
        "    n_inv = kwargs[\"n_inv\"]\n",
        "    vseccore = kwargs[\"vseccore\"]\n",
        "    epoch = kwargs[\"epoch\"]\n",
        "\n",
        "    marker_size = 1\n",
        "\n",
        "\n",
        "    font = {'family' : 'normal',\n",
        "          'weight' : 'bold',\n",
        "          'size'   : 12}\n",
        "\n",
        "    matplotlib.rc('font', **font)\n",
        "\n",
        "    #plt.style.use(['science','no-latex'])\n",
        "\n",
        "    fig, (ax1, ax2, ax3,ax4) = plt.subplots(1, 4)\n",
        "\n",
        "    #fig.subplots_adjust(hspace=10)\n",
        "\n",
        "    fig.set_size_inches(16,4)\n",
        "    #ax1.set_aspect('equal')\n",
        "    #fig.tight_layout(pad=6)\n",
        "    fig.tight_layout(pad = 2)\n",
        "\n",
        "    xlim = 1 #Number of Inverter [1/m]\n",
        "    ylim = 2000 #Coil loss [W] \n",
        "    ax1.set_xlabel(r\"$Number\\ of\\ inverter\\ [1/m]$\", labelpad = x_label_pad)              # not shown\n",
        "    ax1.set_ylabel(r'$Coil loss [W]$', labelpad = y_label_pad) # not shown\n",
        "    x1 = np.arange(0, xlim + 0.1,0.1)\n",
        "    y1 = 0\n",
        "    y2 = ylim\n",
        "    plt_ax1 = ax1.scatter(n_inv, coilloss, s=marker_size, rasterized=True)\n",
        "    #fig.colorbar(mappable = plt_ax1 , ax = ax1, label=r\"$B_{\\rm stray}~[\\rm \\mu T]$\")\n",
        "    ax1.fill_between(x1, y1, y2 ,facecolor='r',alpha=0.3)\n",
        "    ax1.plot([xlim, xlim], [0, ylim], 'r--', lw=0.5)  \n",
        "    ax1.plot([0,xlim], [ylim, ylim], 'r--', lw=0.5) \n",
        "    ax1.axis([0,2, 0,5000])\n",
        "    ax1.tick_params(axis='x', pad=15)\n",
        "    # ax1.set_aspect('equal')\n",
        "\n",
        "\n",
        "\n",
        "    xlim = 45\n",
        "    ylim = 15\n",
        "    ax2.set_xlabel(r\"$B_{\\rm stray}~[\\rm \\mu T]$\", labelpad = x_label_pad)              # not shown\n",
        "    ax2.set_ylabel(r'$Coupling [\\%]$', labelpad = y_label_pad) # not shown\n",
        "\n",
        "    x1 = np.arange(0, xlim + 0.1, 0.1)\n",
        "    y1 = 0\n",
        "    y2 = ylim\n",
        "\n",
        "    plt_ax2 = ax2.scatter(bstray, kdiff,s=marker_size,rasterized=True)\n",
        "    #fig.colorbar(mappable = plt_ax2 , ax = ax2, label=r\"$V_{PriCore}$\")\n",
        "    ax2.fill_between(x1, y1, y2 ,facecolor='r',alpha=0.3)\n",
        "    ax2.plot([xlim, xlim], [0, ylim], 'r--', lw=0.5)  \n",
        "    ax2.plot([0,xlim], [ylim, ylim], 'r--', lw=0.5) \n",
        "    ax2.axis([0, 100, 0, 40])\n",
        "    ax2.tick_params(axis='x', pad=15)\n",
        "\n",
        "    # ax2.set_aspect('equal')\n",
        "\n",
        "    xlim = 3500\n",
        "    ylim = 30\n",
        "\n",
        "    ax3.set_xlabel(r\"$V_{SecCore}$\", labelpad = x_label_pad)              # not shown\n",
        "    ax3.set_ylabel(r'$P_{ave} [KW/M]$', labelpad = y_label_pad) # not shown\n",
        "\n",
        "    x1 = np.arange(0, xlim + 0.1, 0.1)\n",
        "    y1 = ylim\n",
        "    y2 = ylim*10\n",
        "\n",
        "    ax3.scatter(vseccore, pave,s=marker_size, rasterized=True)\n",
        "    #fig.colorbar(mappable = plt_ax3 , ax = ax3, label=r\"$V_{SecWind}$\")\n",
        "    ax3.fill_between(x1, y1, y2 ,facecolor='r',alpha=0.3)\n",
        "    ax3.plot([xlim, xlim], [ylim, ylim*10], 'r--', lw=0.5)  \n",
        "    ax3.plot([0,xlim], [ylim, ylim], 'r--', lw=0.5) \n",
        "    ax3.axis([0, 5000, 0, 80])\n",
        "    ax3.tick_params(axis='x', pad=15)\n",
        "    # ax3.set_aspect('equal')\n",
        "\n",
        "\n",
        "    xlim = 750\n",
        "    ylim = 6000\n",
        "\n",
        "    ax4.set_xlabel(r\"$V_{SecWind}$\", labelpad = x_label_pad)              # not shown\n",
        "    ax4.set_ylabel(r'$V_{PriCore} $', labelpad = y_label_pad) # not shown\n",
        "\n",
        "    x1 = np.arange(0, xlim + 0.1, 0.1)\n",
        "    y1 = 0\n",
        "    y2 = ylim\n",
        "\n",
        "    ax4.scatter(vsecwind, vpricore, s=marker_size, rasterized=True)\n",
        "    #fig.colorbar(mappable = plt_ax3 , ax = ax3, label=r\"$V_{SecWind}$\")\n",
        "    ax4.fill_between(x1, y1, y2 ,facecolor='r',alpha=0.3)\n",
        "    ax4.plot([xlim, xlim], [0, ylim], 'r--', lw=0.5)  \n",
        "    ax4.plot([0,xlim], [ylim, ylim], 'r--', lw=0.5) \n",
        "    ax4.axis([0, 2000, 0, 8000])\n",
        "    ax4.tick_params(axis='x', pad=15)\n",
        "\n",
        "    plt.suptitle(\"Epoch \"+str(epoch).zfill(5) + \"\\nFound \"+ str(accepted_solution_so_far)+ \" solutions out of 1000 input \\nMean Loss\", y = 1.15, c='r')\n",
        "    plt.savefig(\"MeanLoss/\" + str(epoch).zfill(5)+\".png\")\n",
        "    plt.show()\n",
        "    plt.clf()"
      ]
    },
    {
      "cell_type": "code",
      "source": [
        "def generate_solution_plot(**kwargs):\n",
        "  kdiff = kwargs[\"kdiff\"] * 100\n",
        "  pave = kwargs[\"pave\"] /1000\n",
        "  coilloss = kwargs[\"coilloss\"]\n",
        "  bstray = kwargs[\"bstray\"]\n",
        "  vpricore = kwargs[\"vpricore\"]\n",
        "  vsecwind = kwargs[\"vsecwind\"]\n",
        "  n_inv = kwargs[\"n_inv\"]\n",
        "  vseccore = kwargs[\"vseccore\"]\n",
        "\n",
        "  accepted_n_inv_ = [] \n",
        "  accepted_coilloss = [] \n",
        "  accepted_bstray = []\n",
        "  accepted_kdiff = []\n",
        "  accepted_v_sec_core = []\n",
        "  accpeted_pave = []\n",
        "  accepted_v_sec_wind = []\n",
        "  accpeted_v_pri_core = []\n",
        "\n",
        "  for i in range(len(kdiff)):\n",
        "    if n_inv[i] < 1 and coilloss[i] < 2000 and bstray[i] < 50 and \\\n",
        "    kdiff[i] < 40 and vseccore[i] < 1500 and pave[i] > 30 and vsecwind[i] < 750 and vpricore[i] < 6000:\n",
        "      accepted_n_inv_.append(n_inv[i])\n",
        "      accepted_coilloss.append(coilloss[i])\n",
        "      accepted_bstray.append(bstray[i])\n",
        "      accepted_kdiff.append(kdiff[i])\n",
        "      accepted_v_sec_core.append(vseccore[i])\n",
        "      accpeted_pave.append(pave[i])\n",
        "      accepted_v_sec_wind.append(vsecwind[i])\n",
        "      accpeted_v_pri_core.append(vpricore[i])\n",
        "\n",
        "\n",
        "  import matplotlib\n",
        "  import seaborn as sns\n",
        "  import numpy as np\n",
        "\n",
        "  plt.subplots_adjust(left=.1,\n",
        "                      bottom=0.1,\n",
        "                      right=0.9,\n",
        "                      top=2,\n",
        "                      wspace=2,\n",
        "                      hspace=0.4)\n",
        "\n",
        "  font = {'family' : 'normal',\n",
        "          'weight' : 'bold',\n",
        "          'size'   : 15}\n",
        "\n",
        "  matplotlib.rc('font', **font)\n",
        "  color_list = sns.color_palette(\"Paired\", n_colors=len(accpeted_v_pri_core))\n",
        "\n",
        "  plt.style.use(['science','no-latex'])\n",
        "  #matplotlib.rcParams.update({'font.size': font_size, 'font.family': 'STIXGeneral', 'mathtext.fontset': 'stix'})\n",
        "\n",
        "\n",
        "  #fig1=plt.figure(figsize=(cm2inch(fig_width/2),cm2inch(fig_height)/1.2), dpi=400)\n",
        "\n",
        "  marker_size = 50\n",
        "\n",
        "  #plt.style.use(['science','no-latex'])\n",
        "\n",
        "  fig, (ax1, ax2, ax3,ax4) = plt.subplots(1, 4)\n",
        "\n",
        "  #fig.subplots_adjust(hspace=10)\n",
        "\n",
        "  fig.set_size_inches(16,4)\n",
        "  #ax1.set_aspect('equal')\n",
        "  #fig.tight_layout(pad=6)\n",
        "  fig.tight_layout(pad = 2)\n",
        "\n",
        "  xlim = 1 #Number of Inverter [1/m]\n",
        "  ylim = 2000 #Coil loss [W] \n",
        "  ax1.set_xlabel(r\"$Number\\ of\\ inverter\\ [1/m]$\", labelpad = x_label_pad)              # not shown\n",
        "  ax1.set_ylabel(r'$Coil loss [W]$', labelpad = y_label_pad) # not shown\n",
        "  x1 = np.arange(0, xlim + 0.1,0.1)\n",
        "  y1 = 0\n",
        "  y2 = ylim\n",
        "  plt_ax1 = ax1.scatter(accepted_n_inv_, accepted_coilloss, s=marker_size, c= color_list, rasterized=True)\n",
        "  #fig.colorbar(mappable = plt_ax1 , ax = ax1, label=r\"$B_{\\rm stray}~[\\rm \\mu T]$\")\n",
        "  ax1.fill_between(x1, y1, y2 ,facecolor='r',alpha=0.3)\n",
        "  ax1.plot([xlim, xlim], [0, ylim], 'r--', lw=0.5)  \n",
        "  ax1.plot([0,xlim], [ylim, ylim], 'r--', lw=0.5) \n",
        "  ax1.axis([0,2, 0,5000])\n",
        "  ax1.tick_params(axis='x', pad=15)\n",
        "  # ax1.set_aspect('equal')\n",
        "\n",
        "\n",
        "\n",
        "  xlim = 100\n",
        "  ylim = 40\n",
        "  ax2.set_xlabel(r\"$B_{\\rm stray}~[\\rm \\mu T]$\", labelpad = x_label_pad)              # not shown\n",
        "  ax2.set_ylabel(r'$Coupling [\\%]$', labelpad = y_label_pad) # not shown\n",
        "\n",
        "  x1 = np.arange(0, xlim + 0.1, 0.1)\n",
        "  y1 = 0\n",
        "  y2 = ylim\n",
        "\n",
        "  plt_ax2 = ax2.scatter(accepted_bstray, accepted_kdiff,s=marker_size, c= color_list, rasterized=True)\n",
        "  #fig.colorbar(mappable = plt_ax2 , ax = ax2, label=r\"$V_{PriCore}$\")\n",
        "  ax2.fill_between(x1, y1, y2 ,facecolor='r',alpha=0.3)\n",
        "  ax2.plot([xlim, xlim], [0, ylim], 'r--', lw=0.5)  \n",
        "  ax2.plot([0,xlim], [ylim, ylim], 'r--', lw=0.5) \n",
        "  ax2.axis([0, 200, 0, 60])\n",
        "  ax2.tick_params(axis='x', pad=15)\n",
        "\n",
        "  # ax2.set_aspect('equal')\n",
        "\n",
        "  xlim = 3500\n",
        "  ylim = 30\n",
        "\n",
        "  ax3.set_xlabel(r\"$V_{SecCore}$\", labelpad = x_label_pad)              # not shown\n",
        "  ax3.set_ylabel(r'$P_{ave} [KW/M]$', labelpad = y_label_pad) # not shown\n",
        "\n",
        "  x1 = np.arange(0, xlim + 0.1, 0.1)\n",
        "  y1 = ylim\n",
        "  y2 = ylim*10\n",
        "\n",
        "  ax3.scatter(accepted_v_sec_core, accpeted_pave,s=marker_size, c= color_list, rasterized=True)\n",
        "  #fig.colorbar(mappable = plt_ax3 , ax = ax3, label=r\"$V_{SecWind}$\")\n",
        "  ax3.fill_between(x1, y1, y2 ,facecolor='r',alpha=0.3)\n",
        "  ax3.plot([xlim, xlim], [ylim, ylim*10], 'r--', lw=0.5)  \n",
        "  ax3.plot([0,xlim], [ylim, ylim], 'r--', lw=0.5) \n",
        "  ax3.axis([0, 5000, 0, 60])\n",
        "  ax3.tick_params(axis='x', pad=15)\n",
        "  # ax3.set_aspect('equal')\n",
        "\n",
        "\n",
        "  xlim = 750\n",
        "  ylim = 6000\n",
        "\n",
        "  ax4.set_xlabel(r\"$V_{SecWind}$\", labelpad = x_label_pad)              # not shown\n",
        "  ax4.set_ylabel(r'$V_{PriCore} $', labelpad = y_label_pad) # not shown\n",
        "\n",
        "  x1 = np.arange(0, xlim + 0.1, 0.1)\n",
        "  y1 = 0\n",
        "  y2 = ylim\n",
        "\n",
        "  ax4.scatter(accepted_v_sec_wind, accpeted_v_pri_core, s=marker_size, c= color_list, rasterized=True)\n",
        "  #fig.colorbar(mappable = plt_ax3 , ax = ax3, label=r\"$V_{SecWind}$\")\n",
        "  ax4.fill_between(x1, y1, y2 ,facecolor='r',alpha=0.3)\n",
        "  ax4.plot([xlim, xlim], [0, ylim], 'r--', lw=0.5)  \n",
        "  ax4.plot([0,xlim], [ylim, ylim], 'r--', lw=0.5) \n",
        "  ax4.axis([0, 2000, 0, 8000])\n",
        "  ax4.tick_params(axis='x', pad=15)\n",
        "\n",
        "  plt.suptitle(\"Epoch \" +str(epoch).zfill(5) + \"\\nFound \"+ str(len(accepted_bstray))+ \" solutions out of 1000 input\", y = 1.10)\n",
        "  plt.savefig(FULL_PATH + \"Solutions/\"+str(epoch).zfill(5) + \".png\")\n",
        "  # \"Epoch \"+str(epoch).zfill(5) + \"\\nFound \"+ str(len(accepted_bstray))+ \" solutions out of 1000 input\"\n",
        "  plt.clf()"
      ],
      "metadata": {
        "id": "T-rEIHhDVcCQ"
      },
      "execution_count": null,
      "outputs": []
    },
    {
      "cell_type": "code",
      "execution_count": null,
      "metadata": {
        "id": "YJTlhVSi0VkJ"
      },
      "outputs": [],
      "source": [
        "def accepted_solution(**kwargs):\n",
        "\n",
        "    kdiff = kwargs[\"kdiff\"] * 100\n",
        "    pave = kwargs[\"pave\"]\n",
        "    coilloss = kwargs[\"coilloss\"]\n",
        "    bstray = kwargs[\"bstray\"]\n",
        "    vpricore = kwargs[\"vpricore\"]\n",
        "    vsecwind = kwargs[\"vsecwind\"]\n",
        "    n_inv = kwargs[\"n_inv\"]\n",
        "    vseccore = kwargs[\"vseccore\"]\n",
        "\n",
        "    count = 0\n",
        "    for i in range(len(kdiff)):\n",
        "        if n_inv[i] < 1 and coilloss[i] < 2000 and bstray[i] < 45 and \\\n",
        "        kdiff[i] < 15 and vseccore[i] < 1500 and pave[i] > 30:\n",
        "            count += 1\n",
        "\n",
        "    return count"
      ]
    },
    {
      "cell_type": "code",
      "execution_count": null,
      "metadata": {
        "id": "URm5-U_-0VkK"
      },
      "outputs": [],
      "source": [
        "def number_of_inverters(gp_parameters):\n",
        "    (\n",
        "        a, lpx, lpy, ls, p, wp, ws, *ys\n",
        "    ) = gp_parameters.clone().transpose(0,1)\n",
        "    \n",
        "    number_of_inverters = 1/(lpy+2*wp+2*a+p)*10**3\n",
        "\n",
        "    return number_of_inverters"
      ]
    },
    {
      "cell_type": "code",
      "execution_count": null,
      "metadata": {
        "id": "n1ztkTub0VkK"
      },
      "outputs": [],
      "source": [
        "def core_losses(extra_parameters, gp_parameters):\n",
        "    (\n",
        "        ip, np, ns\n",
        "    ) = extra_parameters\n",
        "\n",
        "    (\n",
        "        a, lpx, lpy, ls, p, wp, ws, *ys\n",
        "    ) = gp_parameters.transpose(0,1)\n",
        "    \n",
        "    V_PriCore = ((lpy +2*wp+2*a)*(lpx+2*wp+2*a)*5)/(10**3) # cm3\n",
        "    V_SecCore = (((ls+2*ws+2*b)**2)*5)/(10**3)\n",
        "    V_PriWind = (2*(lpx+wp)+2*(lpy+wp))*6.6*6.6/(10**3)*np\n",
        "    V_SecWind = 4*(ls+ws)*6.6*6.6/(10**3)*ns\n",
        "    \n",
        "    V_PriCore_ave = V_PriCore/(lpy+2*wp+2*a+p)*10**3\n",
        "    # V_PriWind_ave = V_PriWind/(lpy+2*wp+2*a+p)*10**3\n",
        "\n",
        "    return V_PriCore, V_SecCore, V_PriWind, V_SecWind, V_PriCore_ave"
      ]
    },
    {
      "cell_type": "code",
      "execution_count": null,
      "metadata": {
        "id": "rekYEBqX0VkL"
      },
      "outputs": [],
      "source": [
        "def calculate_coilloss_pave(k_parameters, l_parameters, b_parameters, extra_parameters):\n",
        "    (\n",
        "        k_0_0, k_0_1, k_0_2, k_0_3, k_0_4, k_1_0,\n",
        "    ) = k_parameters\n",
        "    (\n",
        "        lp_0_0, lp_0_1, lp_0_2, lp_0_3, lp_0_4,\n",
        "        ls_0_0, ls_0_1, ls_0_2, ls_0_3, ls_0_4,\n",
        "        lp_1_0, ls_1_0,\n",
        "    ) = l_parameters\n",
        "    (\n",
        "        bx_p_0_00, by_p_0_00, bz_p_0_00,\n",
        "        bx_p_0_90, by_p_0_90, bz_p_0_90,\n",
        "        bx_s_0_00, by_s_0_00, bz_s_0_00,\n",
        "        bx_s_0_90, by_s_0_90, bz_s_0_90,\n",
        "\n",
        "        bx_p_1_00, by_p_1_00, bz_p_1_00,\n",
        "        bx_p_1_90, by_p_1_90, bz_p_1_90,\n",
        "        bx_s_1_00, by_s_1_00, bz_s_1_00,\n",
        "        bx_s_1_90, by_s_1_90, bz_s_1_90,\n",
        "    ) = b_parameters\n",
        "    (\n",
        "        ip, np, ns\n",
        "    ) = extra_parameters\n",
        "\n",
        "\n",
        "    a6 = lp_0_0 * np**2  # LP0MM_YSO\n",
        "    a7 = lp_0_1 * np**2  # LP0MM_YS1\n",
        "    a8 = lp_0_2 * np**2  # LP0MM_YS2\n",
        "    a9 = lp_0_3 * np**2  # LP0MM_YS3\n",
        "    a10 = lp_0_4 * np**2 # LP0MM_YS4\n",
        "\n",
        "    a11 = ls_0_0 * ns**2 # LS0MM_YSO\n",
        "    a12 = ls_0_1 * ns**2 # LS0MM_YS1\n",
        "    a13 = ls_0_2 * ns**2 # LS0MM_YS2\n",
        "    a14 = ls_0_3 * ns**2 # LS0MM_YS3\n",
        "    a15 = ls_0_4 * ns**2 # LS0MM_YS4\n",
        "\n",
        "    Is = calculate_Is(l_parameters,k_parameters)\n",
        "  \n",
        "    loss = (w*a6*10**(-9)*ip**2/QCoil + w*a11*10**(-9)*Is**2/QCoil) \n",
        "\n",
        "    p0 = w*k_0_0*(a6 * a11)**0.5*ip*Is\n",
        "    p1 = w*k_0_1*(a7 * a12)**0.5*ip*Is\n",
        "    p2 = w*k_0_2*(a8 * a13)**0.5*ip*Is\n",
        "    p3 = w*k_0_3*(a9 * a14)**0.5*ip*Is\n",
        "    p4 = 2*w*k_0_4*(a10 * a15)**0.5*ip*Is\n",
        "    pave = (p0+(2*p1)+(2*p2)+(2*p3)+ p4)/8\n",
        "    pave_kW = pave / 1000\n",
        "\n",
        "    return loss,pave_kW"
      ]
    },
    {
      "cell_type": "markdown",
      "metadata": {
        "id": "YJffUeld0VkM"
      },
      "source": [
        "# Neural Network Training Loop"
      ]
    },
    {
      "cell_type": "code",
      "execution_count": null,
      "metadata": {
        "colab": {
          "base_uri": "https://localhost:8080/",
          "height": 1000
        },
        "id": "OXzpQf5O1Nxk",
        "outputId": "d033b3de-0d57-4298-9123-00a57785694a"
      },
      "outputs": [
        {
          "output_type": "stream",
          "name": "stderr",
          "text": [
            "WARNING:matplotlib.font_manager:findfont: Font family ['normal'] not found. Falling back to DejaVu Sans.\n"
          ]
        },
        {
          "output_type": "stream",
          "name": "stdout",
          "text": [
            "Accepted Soluntions :  9\n"
          ]
        },
        {
          "output_type": "stream",
          "name": "stderr",
          "text": [
            "WARNING:matplotlib.font_manager:findfont: Font family ['normal'] not found. Falling back to DejaVu Sans.\n",
            "WARNING:matplotlib.font_manager:findfont: Font family ['normal'] not found. Falling back to DejaVu Sans.\n"
          ]
        },
        {
          "output_type": "display_data",
          "data": {
            "text/plain": [
              "<Figure size 1152x288 with 4 Axes>"
            ],
            "image/png": "[encoded data removed]"
          },
          "metadata": {
            "needs_background": "light"
          }
        },
        {
          "output_type": "stream",
          "name": "stdout",
          "text": [
            "Accepted Soluntions :  34\n",
            "Accepted Soluntions :  326\n",
            "Accepted Soluntions :  878\n",
            "Accepted Soluntions :  987\n",
            "Accepted Soluntions :  999\n",
            "Accepted Soluntions :  1000\n",
            "Accepted Soluntions :  999\n",
            "Accepted Soluntions :  1000\n",
            "Accepted Soluntions :  1000\n",
            "Accepted Soluntions :  1000\n"
          ]
        },
        {
          "output_type": "display_data",
          "data": {
            "text/plain": [
              "<Figure size 1152x288 with 4 Axes>"
            ],
            "image/png": "[encoded data removed]"
          },
          "metadata": {
            "needs_background": "light"
          }
        },
        {
          "output_type": "stream",
          "name": "stdout",
          "text": [
            "Accepted Soluntions :  1000\n",
            "Accepted Soluntions :  1000\n",
            "Accepted Soluntions :  1000\n",
            "Accepted Soluntions :  1000\n",
            "Accepted Soluntions :  1000\n",
            "Accepted Soluntions :  1000\n",
            "Accepted Soluntions :  1000\n",
            "Accepted Soluntions :  1000\n",
            "Accepted Soluntions :  1000\n",
            "Accepted Soluntions :  1000\n"
          ]
        },
        {
          "output_type": "display_data",
          "data": {
            "text/plain": [
              "<Figure size 1152x288 with 4 Axes>"
            ],
            "image/png": "[encoded data removed]"
          },
          "metadata": {
            "needs_background": "light"
          }
        },
        {
          "output_type": "stream",
          "name": "stdout",
          "text": [
            "Accepted Soluntions :  1000\n",
            "Accepted Soluntions :  1000\n",
            "Accepted Soluntions :  1000\n",
            "Accepted Soluntions :  1000\n",
            "Accepted Soluntions :  1000\n",
            "Accepted Soluntions :  1000\n",
            "Accepted Soluntions :  1000\n",
            "Accepted Soluntions :  1000\n",
            "Accepted Soluntions :  1000\n",
            "Accepted Soluntions :  1000\n"
          ]
        },
        {
          "output_type": "display_data",
          "data": {
            "text/plain": [
              "<Figure size 1152x288 with 4 Axes>"
            ],
            "image/png": "[encoded data removed]"
          },
          "metadata": {
            "needs_background": "light"
          }
        },
        {
          "output_type": "stream",
          "name": "stdout",
          "text": [
            "Accepted Soluntions :  1000\n",
            "Accepted Soluntions :  1000\n",
            "Accepted Soluntions :  1000\n",
            "Accepted Soluntions :  1000\n",
            "Accepted Soluntions :  1000\n",
            "Accepted Soluntions :  1000\n",
            "Accepted Soluntions :  1000\n",
            "Accepted Soluntions :  1000\n",
            "Accepted Soluntions :  1000\n",
            "Accepted Soluntions :  1000\n"
          ]
        },
        {
          "output_type": "display_data",
          "data": {
            "text/plain": [
              "<Figure size 1152x288 with 4 Axes>"
            ],
            "image/png": "[encoded data removed]"
          },
          "metadata": {
            "needs_background": "light"
          }
        },
        {
          "output_type": "stream",
          "name": "stdout",
          "text": [
            "Accepted Soluntions :  1000\n",
            "Accepted Soluntions :  1000\n",
            "Accepted Soluntions :  1000\n",
            "Accepted Soluntions :  1000\n",
            "Accepted Soluntions :  1000\n",
            "Accepted Soluntions :  1000\n",
            "Accepted Soluntions :  1000\n",
            "Accepted Soluntions :  1000\n",
            "Accepted Soluntions :  1000\n",
            "Accepted Soluntions :  1000\n"
          ]
        },
        {
          "output_type": "display_data",
          "data": {
            "text/plain": [
              "<Figure size 1152x288 with 4 Axes>"
            ],
            "image/png": "[encoded data removed]"
          },
          "metadata": {
            "needs_background": "light"
          }
        },
        {
          "output_type": "display_data",
          "data": {
            "text/plain": [
              "<Figure size 252x189 with 0 Axes>"
            ]
          },
          "metadata": {}
        }
      ],
      "source": [
        "pareto_bstray_points = []\n",
        "pareto_kdiff_points = []\n",
        "pareto_numinv_points = []\n",
        "pareto_coilloss_points = []\n",
        "pareto_V_SecCore_points = []\n",
        "pareto_pave_post_points = []\n",
        "\n",
        "accepted_solutions = []\n",
        "max_solution = -float('inf')\n",
        "\n",
        "kdiffs = []\n",
        "bstrays = []\n",
        "numinvs = []\n",
        "coillosses = []\n",
        "combined_losses = []\n",
        "\n",
        "#testing for graphs\n",
        "kdiff_designs = []\n",
        "bstray_designs = []\n",
        "numinv_designs = []\n",
        "coilloss_designs = []\n",
        "V_SecCore_designs = []\n",
        "pave_designs = []\n",
        "\n",
        "pareto_bstray_points2 = []\n",
        "pareto_kdiff_points2 = []\n",
        "\n",
        "x_calc_numpy =[]\n",
        "y_calc_numpy=[]\n",
        "cumulative_solutions = [0]\n",
        "i = 1\n",
        "#training parameters\n",
        "n_epochs = 5001\n",
        "n_noise = 1000\n",
        "\n",
        "for epoch in range(n_epochs):\n",
        "    \n",
        "    # Clear old gradients in the GP model\n",
        "    for param in gp_model.parameters():\n",
        "        param.grad = None\n",
        "\n",
        "    # Create GP parameters from noise\n",
        "    noise = generate_noise(shape=(n_noise, 10))\n",
        "    gp = gp_model(noise)\n",
        "\n",
        "    # Unpack and filter GP parameters\n",
        "    a, lpx, lpy, ls, p, wp, ws, ip, np, ns, ys = scale_and_extract(gp)\n",
        "    gp_parameters = stack_parameters(a, lpx, lpy, ls, p, wp, ws, *ys)\n",
        "    extra_parameters = stack_parameters(ip, np, ns).transpose(0, 1)\n",
        "\n",
        "    V_PriCore, V_SecCore, V_PriWind,V_SecWind, V_PriCore_ave = core_losses(extra_parameters,gp_parameters)\n",
        "    numinv = number_of_inverters(gp_parameters)\n",
        "    \n",
        "    # Scale GP parameters - why?\n",
        "    min_x = torch.min(gp_parameters)\n",
        "    max_x = torch.max(gp_parameters)\n",
        "    gp_parameters = (gp_parameters - min_x) / (max_x - min_x)\n",
        "  \n",
        "    # Push GP parameters through MP model\n",
        "    mp_parameters = mp_model(gp_parameters)\n",
        "\n",
        "    # Scale MP parameters\n",
        "    y = torch.Tensor(df_mp.values).transpose(0, 1).to(\"cuda\")\n",
        "    min_y = torch.min(y, 1).values\n",
        "    max_y = torch.max(y, 1).values\n",
        "    mp_parameters = mp_parameters * (max_y - min_y) + min_y\n",
        "\n",
        "    k_parameters = mp_parameters.transpose(0, 1)[0:6]\n",
        "    l_parameters = mp_parameters.transpose(0, 1)[6:18]\n",
        "    b_parameters = mp_parameters.transpose(0, 1)[18:]\n",
        "\n",
        "    # Calculate losses\n",
        "    kdiff = kdiff_loss(k_parameters)\n",
        "    bstray = bstray_loss(k_parameters, l_parameters, b_parameters, extra_parameters)\n",
        "    # coilloss,pave = coil_loss_and_power_average(k_parameters, l_parameters, b_parameters, extra_parameters)\n",
        "    # print(pave)\n",
        "    coilloss,pave = calculate_coilloss_pave(k_parameters, l_parameters, b_parameters, extra_parameters)\n",
        "    \n",
        "    #pmax - pave_kW, to get tensor to minimize, pavemin is tensor to minimize\n",
        "    pavemin = torch.sub(10000, pave)\n",
        "\n",
        "    # # Call pairwise pareto and loss\n",
        "    # bstray_kdiff_loss, pareto_bstray, pareto_kdiff, bstray_numpy, kdiff_numpy, pareto_bstray_numpy, pareto_kdiff_numpy, pareto_bstray_forx_numpy, pareto_kdiff_forx_numpy = compute_pairloss_and_pareto(bstray, kdiff)\n",
        "    # numinv_coilloss_loss, pareto_numinv, pareto_coilloss, numinv_numpy, coilloss_numpy, pareto_numinv_numpy, pareto_coilloss_numpy, pareto_numinv_forx_numpy, pareto_coilloss_forx_numpy = compute_pairloss_and_pareto(numinv, coilloss)\n",
        "    # V_SecCore_pavemin_loss, pareto_V_SecCore, pareto_pavemin, V_SecCore_numpy, pavemin_numpy, pareto_V_SecCore_numpy, pareto_pavemin_numpy, pareto_V_SecCore_forx_numpy, pareto_pavemin_forx_numpy = compute_pairloss_and_pareto(V_SecCore, pavemin)\n",
        "    # V_PriCore_V_SecWind_loss, pareto_V_PriCore, pareto_V_SecWind, V_PriCore_numpy, V_SecWind_numpy, pareto_V_PriCore_numpy, pareto_V_SecWind_numpy, pareto_V_PriCore_forx_numpy, pareto_V_SecWind_forx_numpy = compute_pairloss_and_pareto(V_PriCore, V_SecWind)\n",
        "    # #get pave points for plotting\n",
        "    # pareto_pave_post = pave_tomax(pareto_pavemin)\n",
        "    \n",
        "    if epoch%100 == 0:\n",
        "        kwargs = {}\n",
        "\n",
        "        kwargs[\"kdiff\"] = kdiff.clone().detach().cpu().numpy()\n",
        "        kwargs[\"pave\"] = pave.clone().detach().cpu().numpy()\n",
        "        kwargs[\"coilloss\"] = coilloss.clone().detach().cpu().numpy()\n",
        "        kwargs[\"bstray\"] = bstray.clone().detach().cpu().numpy()\n",
        "        kwargs[\"vpricore\"] = V_PriCore_ave.clone().detach().cpu().numpy()\n",
        "        kwargs[\"vsecwind\"] = V_SecWind.clone().detach().cpu().numpy()\n",
        "        kwargs[\"n_inv\"] = numinv.clone().detach().cpu().numpy()\n",
        "        kwargs[\"vseccore\"] = V_SecCore.clone().detach().cpu().numpy()\n",
        "        kwargs[\"epoch\"] = epoch\n",
        "\n",
        "        accepted_solution_so_far = accepted_solution(**kwargs)\n",
        "\n",
        "    \n",
        "        accepted_solutions.append(accepted_solution_so_far)\n",
        "        print(\"Accepted Soluntions : \", accepted_solution_so_far)\n",
        "        cumulative_solutions.append(cumulative_solutions[i - 1] + accepted_solution_so_far)\n",
        "        i+=1\n",
        "        generate_solution_plot(**kwargs)\n",
        "        \n",
        "        if max_solution < accepted_solution_so_far:\n",
        "            torch.save(gp_model.state_dict(), f\"./models/gp_model_{epoch:06}.pt\")\n",
        "            max_solution = accepted_solution_so_far\n",
        "        \n",
        "        if epoch%1000 == 0:\n",
        "            plot_(**kwargs)\n",
        "    \n",
        "    #Spline Fit Loss\n",
        "    # combined_loss = (bstray_kdiff_loss + numinv_coilloss_loss + V_SecCore_pavemin_loss)\n",
        "    \n",
        "    #Spline Fit Loss with V_PriCore and V_SecWind\n",
        "    # combined_loss = (bstray_kdiff_loss + numinv_coilloss_loss + V_SecCore_pavemin_loss + V_PriCore_V_SecWind_loss)\n",
        "    \n",
        "    # ParetoPointMeanLoss\n",
        "    # combined_loss = (torch.mean(pareto_bstray) + torch.mean(pareto_kdiff) + torch.mean(pareto_numinv) + torch.mean(pareto_coilloss) + torch.mean(pareto_V_SecCore) + torch.mean(pareto_pavemin))\n",
        "     \n",
        "    # ParetoPointMedianLoss\n",
        "    # combined_loss = (torch.median(pareto_bstray) + torch.median(pareto_kdiff) + torch.median(pareto_numinv) + torch.median(pareto_coilloss) + torch.median(pareto_V_SecCore) + torch.median(pareto_pavemin))\n",
        "    \n",
        "    #SimpleMeanLoss\n",
        "    combined_loss = (torch.mean(bstray) * torch.mean(kdiff) * torch.mean(numinv) * torch.mean(coilloss) * torch.mean(V_SecCore) * torch.mean(pavemin))\n",
        "\n",
        "    # Push loss through the optimizer and update the GP model\n",
        "    try:\n",
        "        combined_loss.backward(retain_graph=True)\n",
        "        optimizer.step()\n",
        "    except Exception as e:\n",
        "        print(f\"Error on epoch {epoch} regarding\", e)\n",
        "        break\n",
        "\n",
        "    \n",
        "    #if epoch % 50 == 0:\n",
        "        \n",
        "#         # plt.plot(pareto_bstray_numpy[:,0], spl_y(pareto_bstray_numpy[:,0]), '--', bstray_numpy, kdiff_numpy, 'o')\n",
        "#         plt.plot(pareto_bstray_numpy, pareto_kdiff_numpy)\n",
        "#         plt.plot(bstray_numpy, kdiff_numpy, 'o')\n",
        "#         # plt.plot(x_calc.cpu().data.numpy(), kdiff_numpy, 'o')\n",
        "#         plt.xlim([0,100])\n",
        "#         plt.ylim([0,0.5])\n",
        "#         plt.show()\n",
        "        \n",
        "#         plt.plot(pareto_numinv_numpy, pareto_coilloss_numpy)\n",
        "#         plt.plot(numinv_numpy, coilloss_numpy, 'o')\n",
        "#         plt.show()\n",
        "        \n",
        "#         plt.plot(pareto_V_SecCore_numpy, pareto_pavemin_numpy)\n",
        "#         plt.plot(V_SecCore_numpy, pavemin_numpy, 'o')\n",
        "#         plt.show()\n",
        "        \n",
        "#         plt.plot(pareto_V_PriCore_numpy, pareto_V_SecWind_numpy)\n",
        "#         plt.plot(V_PriCore_numpy, V_SecWind_numpy, 'o')\n",
        "#         plt.show()\n",
        "\n",
        "        #paretopoints graphing test\n",
        "        # pareto_bstray_test, pareto_kdiff_test = oldgraph_pareto_frontier(bstray.cpu().detach().numpy(), kdiff.cpu().detach().numpy())\n",
        "        # pareto_bstray_points2.append(pareto_bstray_test)\n",
        "        # pareto_kdiff_points2.append(pareto_kdiff_test)\n",
        "\n",
        "        # # Store metrics for plotting or further logging\n",
        "        # combined_losses.append(combined_loss.cpu().data.numpy())\n",
        "        # kdiffs.append(torch.mean(kdiff).cpu().data.numpy())\n",
        "        # bstrays.append(torch.mean(bstray).cpu().data.numpy())\n",
        "        # numinvs.append(torch.mean(numinv).cpu().data.numpy())\n",
        "        # coillosses.append(torch.mean(coilloss).cpu().data.numpy())\n",
        "        \n",
        "        # kdiff_designs.append(kdiff.cpu().data.numpy())\n",
        "        # bstray_designs.append(bstray.cpu().data.numpy())\n",
        "        # numinv_designs.append(numinv.cpu().data.numpy())\n",
        "        # coilloss_designs.append(coilloss.cpu().data.numpy())\n",
        "        # V_SecCore_designs.append(V_SecCore_numpy)\n",
        "        # pave_designs.append(pave.cpu().data.numpy())\n",
        "        \n",
        "        \n",
        "        # pareto_bstray_points.append(pareto_bstray[:].cpu().detach().numpy())\n",
        "        # pareto_kdiff_points.append(pareto_kdiff[:].cpu().detach().numpy())\n",
        "        # pareto_numinv_points.append(pareto_numinv[:].cpu().detach().numpy())\n",
        "        # pareto_coilloss_points.append(pareto_coilloss[:].cpu().detach().numpy())\n",
        "        # pareto_V_SecCore_points.append(pareto_V_SecCore[:].cpu().detach().numpy())\n",
        "        # pareto_pave_post_points.append(pareto_pave_post[:].cpu().detach().numpy())\n",
        "\n",
        "\n",
        "        # print(f\"Epoch: {epoch:4d}\")\n",
        "        # # print(f\"  Combined Loss:  {combined_losses[-1]:.10f}\")\n",
        "        # print(f\"  Kdiff :         {100 * torch.mean(kdiff):.4f}%\")\n",
        "        # print(f\"  Bstray :        {torch.mean(bstray):.4f}\")\n",
        "        # print(f\"  Pareto Kdiff :  {100 * torch.min(pareto_kdiff):.4f}%\")\n",
        "        # print(f\"  Pareto Bstray : {torch.min(pareto_bstray):.4f}\")\n",
        "        # print(f\"  Coilloss :      {torch.mean(coilloss):.4f}\")\n",
        "        # print(f\"  num inv :        {torch.mean(numinv):.4f}\")\n",
        "        # print(f\"  Pareto Coilloss : {torch.min(pareto_coilloss):.4f}\")\n",
        "        # print(f\"  Pareto num inv : {torch.min(pareto_numinv):.4f}\")    \n",
        "        # print(f\"  V_SecCore :  {torch.mean(V_SecCore).cpu().data.numpy():.4f}\")\n",
        "        # print(f\"  pave : {torch.mean(pave).cpu().data.numpy():.4f}\")\n",
        "        \n",
        "\n",
        "        # Save model for further training or testing\n",
        "        # torch.save(gp_model, f\"./models/gp_model_{epoch:06}.pt\")"
      ]
    },
    {
      "cell_type": "markdown",
      "metadata": {
        "tags": [],
        "id": "VOD_SGAl0VkO"
      },
      "source": [
        "# Plotting"
      ]
    },
    {
      "cell_type": "code",
      "source": [
        "plt.plot([i*100 for i in range(len(cumulative_solutions))], cumulative_solutions)\n",
        "plt.ylim(0,1000)\n",
        "plt.xlim(0,5000)\n",
        "plt.title(\"Cumulative Solution Plot \\nMean Loss\", y = 1.10)\n",
        "plt.xlabel(\"Epoch\")\n",
        "plt.ylabel(\"Total Solutions Found\")\n",
        "plt.savefig(\"MeanLoss/\" + \"CumulativeSolution_MeanLoss\"+\".png\")"
      ],
      "metadata": {
        "colab": {
          "base_uri": "https://localhost:8080/",
          "height": 247
        },
        "id": "QE4TK4XtFCAZ",
        "outputId": "56ce0d08-88ab-4808-fae1-fc196284cc58"
      },
      "execution_count": null,
      "outputs": [
        {
          "output_type": "display_data",
          "data": {
            "text/plain": [
              "<Figure size 252x189 with 1 Axes>"
            ],
            "image/png": "[encoded data removed]"
          },
          "metadata": {
            "needs_background": "light"
          }
        }
      ]
    },
    {
      "cell_type": "code",
      "execution_count": null,
      "metadata": {
        "id": "An2Zfd5R0VkO"
      },
      "outputs": [],
      "source": [
        "#use inside every so many epoch printing          \n",
        "\n",
        "\n",
        "# figure, axis = plt.subplots(2, 1, figsize=(10,10))\n",
        "#         plt.figure(figsize=(10, 5))\n",
        "        \n",
        "#         if normalize == True:\n",
        "#             axis[0].plot(normalized_pareto_bstray_numpy, normalized_pareto_kdiff_numpy)\n",
        "#             axis[0].scatter(x_calc.cpu().data.numpy(), normalized_kdiff_numpy)\n",
        "#             axis[0].scatter(normalized_bstray_numpy, normalized_kdiff_numpy)\n",
        "#             axis[0].set_xlim([0,1])\n",
        "#             axis[0].set_ylim([0,1])\n",
        "#             axis[0].set_xlabel(\"Bstray\")\n",
        "#             axis[0].set_ylabel(\"Kdiff %\")\n",
        "#             axis[0].set_title(f\"x_calc vs. designs, epoch: {epoch}\")\n",
        "            \n",
        "#             axis[1].plot(normalized_pareto_bstray_numpy, normalized_pareto_kdiff_numpy)\n",
        "#             axis[1].scatter(normalized_bstray_numpy, y_calc.cpu().data.numpy())\n",
        "#             axis[1].scatter(normalized_bstray_numpy, normalized_kdiff_numpy)\n",
        "#             axis[1].set_xlim([0,1])\n",
        "#             axis[1].set_ylim([0,1])\n",
        "#             axis[1].set_xlabel(\"Bstray\")\n",
        "#             axis[1].set_ylabel(\"Kdiff %\")\n",
        "#             axis[1].set_title(f\"y_calc vs. designs, epoch: {epoch}\")\n",
        "#         else:\n",
        "#             axis[0].plot(pareto_bstray_numpy, pareto_kdiff_numpy)\n",
        "#             axis[0].scatter(x_calc.cpu().data.numpy(), kdiff_numpy)\n",
        "#             axis[0].scatter(bstray_numpy, kdiff_numpy)\n",
        "#             axis[0].set_xlim([0,100])\n",
        "#             axis[0].set_ylim([0,1])\n",
        "#             axis[0].set_xlabel(\"Bstray\")\n",
        "#             axis[0].set_ylabel(\"Kdiff %\")\n",
        "#             axis[0].set_title(f\"x_calc vs. designs, epoch: {epoch}\")\n",
        "            \n",
        "#             axis[1].plot(pareto_bstray_numpy, pareto_kdiff_numpy)\n",
        "#             axis[1].scatter(bstray_numpy, y_calc.cpu().data.numpy())\n",
        "#             axis[1].scatter(bstray_numpy, kdiff_numpy)\n",
        "#             axis[1].set_xlim([0,100])\n",
        "#             axis[1].set_ylim([0,1])\n",
        "#             axis[1].set_xlabel(\"Bstray\")\n",
        "#             axis[1].set_ylabel(\"Kdiff %\")\n",
        "#             axis[1].set_title(f\"y_calc vs. designs, epoch: {epoch}\")\n",
        "            \n",
        "            \n",
        "        # plt.xlim([0,100])\n",
        "        # plt.ylim([0,0.5])\n",
        "        # plt.show()"
      ]
    },
    {
      "cell_type": "code",
      "execution_count": null,
      "metadata": {
        "tags": [],
        "colab": {
          "base_uri": "https://localhost:8080/",
          "height": 741
        },
        "id": "R9cL2-V80VkP",
        "outputId": "5696eead-bca5-4d97-9963-f534f63db744"
      },
      "outputs": [
        {
          "output_type": "stream",
          "name": "stdout",
          "text": [
            "0\n",
            "0\n"
          ]
        },
        {
          "output_type": "error",
          "ename": "IndexError",
          "evalue": "ignored",
          "traceback": [
            "\u001b[0;31m---------------------------------------------------------------------------\u001b[0m",
            "\u001b[0;31mIndexError\u001b[0m                                Traceback (most recent call last)",
            "\u001b[0;32m<ipython-input-30-c031c0f7dc37>\u001b[0m in \u001b[0;36m<module>\u001b[0;34m\u001b[0m\n\u001b[1;32m     22\u001b[0m         \u001b[0mfinal_y\u001b[0m\u001b[0;34m.\u001b[0m\u001b[0mappend\u001b[0m\u001b[0;34m(\u001b[0m\u001b[0mitem\u001b[0m\u001b[0;34m)\u001b[0m\u001b[0;34m\u001b[0m\u001b[0;34m\u001b[0m\u001b[0m\n\u001b[1;32m     23\u001b[0m \u001b[0;34m\u001b[0m\u001b[0m\n\u001b[0;32m---> 24\u001b[0;31m \u001b[0mfinal_x\u001b[0m\u001b[0;34m,\u001b[0m \u001b[0mfinal_y\u001b[0m \u001b[0;34m=\u001b[0m \u001b[0moldgraph_pareto_frontier\u001b[0m\u001b[0;34m(\u001b[0m\u001b[0mfinal_x\u001b[0m\u001b[0;34m,\u001b[0m \u001b[0mfinal_y\u001b[0m\u001b[0;34m)\u001b[0m\u001b[0;34m\u001b[0m\u001b[0;34m\u001b[0m\u001b[0m\n\u001b[0m\u001b[1;32m     25\u001b[0m \u001b[0mprint\u001b[0m\u001b[0;34m(\u001b[0m\u001b[0mlen\u001b[0m\u001b[0;34m(\u001b[0m\u001b[0mfinal_x\u001b[0m\u001b[0;34m)\u001b[0m\u001b[0;34m,\u001b[0m\u001b[0mlen\u001b[0m\u001b[0;34m(\u001b[0m\u001b[0mfinal_y\u001b[0m\u001b[0;34m)\u001b[0m\u001b[0;34m)\u001b[0m\u001b[0;34m\u001b[0m\u001b[0;34m\u001b[0m\u001b[0m\n\u001b[1;32m     26\u001b[0m \u001b[0;34m\u001b[0m\u001b[0m\n",
            "\u001b[0;32m<ipython-input-13-4327cc02c236>\u001b[0m in \u001b[0;36moldgraph_pareto_frontier\u001b[0;34m(Xs, Ys, maxX, maxY)\u001b[0m\n\u001b[1;32m      5\u001b[0m     \u001b[0mmyList\u001b[0m \u001b[0;34m=\u001b[0m \u001b[0msorted\u001b[0m\u001b[0;34m(\u001b[0m\u001b[0;34m[\u001b[0m\u001b[0;34m[\u001b[0m\u001b[0mXs\u001b[0m\u001b[0;34m[\u001b[0m\u001b[0mi\u001b[0m\u001b[0;34m]\u001b[0m\u001b[0;34m,\u001b[0m \u001b[0mYs\u001b[0m\u001b[0;34m[\u001b[0m\u001b[0mi\u001b[0m\u001b[0;34m]\u001b[0m\u001b[0;34m]\u001b[0m \u001b[0;32mfor\u001b[0m \u001b[0mi\u001b[0m \u001b[0;32min\u001b[0m \u001b[0mrange\u001b[0m\u001b[0;34m(\u001b[0m\u001b[0mlen\u001b[0m\u001b[0;34m(\u001b[0m\u001b[0mXs\u001b[0m\u001b[0;34m)\u001b[0m\u001b[0;34m)\u001b[0m\u001b[0;34m]\u001b[0m\u001b[0;34m,\u001b[0m \u001b[0mreverse\u001b[0m\u001b[0;34m=\u001b[0m\u001b[0mmaxX\u001b[0m\u001b[0;34m)\u001b[0m\u001b[0;34m\u001b[0m\u001b[0;34m\u001b[0m\u001b[0m\n\u001b[1;32m      6\u001b[0m \u001b[0;31m# Start the Pareto frontier with the first value in the sorted list\u001b[0m\u001b[0;34m\u001b[0m\u001b[0;34m\u001b[0m\u001b[0;34m\u001b[0m\u001b[0m\n\u001b[0;32m----> 7\u001b[0;31m     \u001b[0mp_front\u001b[0m \u001b[0;34m=\u001b[0m \u001b[0;34m[\u001b[0m\u001b[0mmyList\u001b[0m\u001b[0;34m[\u001b[0m\u001b[0;36m0\u001b[0m\u001b[0;34m]\u001b[0m\u001b[0;34m]\u001b[0m\u001b[0;34m\u001b[0m\u001b[0;34m\u001b[0m\u001b[0m\n\u001b[0m\u001b[1;32m      8\u001b[0m \u001b[0;31m# Loop through the sorted list\u001b[0m\u001b[0;34m\u001b[0m\u001b[0;34m\u001b[0m\u001b[0;34m\u001b[0m\u001b[0m\n\u001b[1;32m      9\u001b[0m     \u001b[0;32mfor\u001b[0m \u001b[0mpair\u001b[0m \u001b[0;32min\u001b[0m \u001b[0mmyList\u001b[0m\u001b[0;34m[\u001b[0m\u001b[0;36m1\u001b[0m\u001b[0;34m:\u001b[0m\u001b[0;34m]\u001b[0m\u001b[0;34m:\u001b[0m\u001b[0;34m\u001b[0m\u001b[0;34m\u001b[0m\u001b[0m\n",
            "\u001b[0;31mIndexError\u001b[0m: list index out of range"
          ]
        },
        {
          "output_type": "display_data",
          "data": {
            "text/plain": [
              "<Figure size 720x360 with 1 Axes>"
            ],
            "image/png": "[encoded data removed]"
          },
          "metadata": {
            "needs_background": "light"
          }
        }
      ],
      "source": [
        "#scatter plot of final pareto points\n",
        "plt.figure(figsize=(10, 5))\n",
        "plt.suptitle(f\"Pareto Bstray vs Kdiff Combined Final Frontier\")\n",
        "plt.title(f\" {n_epochs} epochs, {n_noise} noise, Loss = spline fit\")\n",
        "plt.xlabel(\"Bstray\")\n",
        "plt.ylabel(\"Coupling %\")\n",
        "plt.xlim([0,100])\n",
        "plt.ylim([0,0.5])\n",
        "\n",
        "print(len(pareto_bstray_points2[:]))\n",
        "print(len(pareto_kdiff_points2[:]))\n",
        "# print(pareto_bstray_points2[:])\n",
        "final_x = []\n",
        "for list in pareto_bstray_points2:\n",
        "    for item in list:\n",
        "        final_x.append(item)\n",
        "\n",
        "\n",
        "final_y = []\n",
        "for list in pareto_kdiff_points2:\n",
        "    for item in list:\n",
        "        final_y.append(item)\n",
        "\n",
        "final_x, final_y = oldgraph_pareto_frontier(final_x, final_y)\n",
        "print(len(final_x),len(final_y))\n",
        "\n",
        "plt.scatter(final_x, final_y)\n",
        "plt.show() "
      ]
    },
    {
      "cell_type": "code",
      "execution_count": null,
      "metadata": {
        "id": "GBOUVDDg0VkQ"
      },
      "outputs": [],
      "source": [
        "#line plot of final pareto points\n",
        "\n",
        "plt.figure(figsize=(10, 5))\n",
        "plt.suptitle(f\"Pareto Bstray vs Kdiff Combined Final Frontier\")\n",
        "plt.title(f\" {n_epochs} epochs, {n_noise} noise, Loss = spline fit\")\n",
        "plt.xlabel(\"Bstray\")\n",
        "plt.ylabel(\"Coupling %\")\n",
        "plt.xlim([0,100])\n",
        "plt.ylim([0,0.50])\n",
        "\n",
        "print(len(pareto_bstray_points2[:]))\n",
        "print(len(pareto_kdiff_points2[:]))\n",
        "# print(pareto_bstray_points2[:])\n",
        "final_x = []\n",
        "for list in pareto_bstray_points2:\n",
        "    for item in list:\n",
        "        final_x.append(item)\n",
        "\n",
        "\n",
        "final_y = []\n",
        "for list in pareto_kdiff_points2:\n",
        "    for item in list:\n",
        "        final_y.append(item)\n",
        "\n",
        "final_x, final_y = oldgraph_pareto_frontier(final_x, final_y)\n",
        "print(len(final_x),len(final_y))\n",
        "\n",
        "plt.plot(final_x, final_y)\n",
        "plt.show() "
      ]
    },
    {
      "cell_type": "code",
      "execution_count": null,
      "metadata": {
        "tags": [],
        "id": "JEl-nlGO0VkQ"
      },
      "outputs": [],
      "source": [
        "i = 0\n",
        "plt.figure(figsize=(10, 5))\n",
        "plt.suptitle(f\"Pareto Bstray vs Kdiff During Training\")\n",
        "plt.title(f\" {n_epochs} epochs, {n_noise} noise, Loss = spline fit\")\n",
        "plt.xlabel(\"Bstray\")\n",
        "plt.ylabel(\"Coupling %\")\n",
        "plt.xlim([0,100])\n",
        "plt.ylim([0,0.50])\n",
        "\n",
        "print(len(pareto_bstray_points), len(pareto_kdiff_points))\n",
        "\n",
        "while i < len(pareto_bstray_points):\n",
        "    plt.plot(pareto_bstray_points[i], pareto_kdiff_points[i], label = f\"epoch: {i*50}\")\n",
        "    # plt.plot(pareto_bstray_points[i], pareto_kdiff_points[i])\n",
        "    i+=1\n",
        "plt.legend()\n",
        "plt.savefig('Pareto_Bstray_Kdiff_1000Epoch_256Noise_linfit.png')\n",
        "plt.show()\n"
      ]
    },
    {
      "cell_type": "code",
      "execution_count": null,
      "metadata": {
        "id": "dk7Zapn60VkR"
      },
      "outputs": [],
      "source": [
        "i = 0\n",
        "plt.figure(figsize=(10, 5))\n",
        "plt.suptitle(f\"Pareto Number of Inverters vs Coilloss During Training\")\n",
        "plt.title(f\" {n_epochs} epochs, {n_noise} noise, Loss = spline fit\")\n",
        "plt.xlabel(\"Num Inverters\")\n",
        "plt.ylabel(\"Coil loss\")\n",
        "plt.xlim([0,2])\n",
        "plt.ylim([0, 5000])\n",
        "\n",
        "print(len(pareto_numinv_points), len(pareto_coilloss_points))\n",
        "\n",
        "while i < len(pareto_numinv_points):\n",
        "    plt.plot(pareto_numinv_points[i], pareto_coilloss_points[i], label = f\"epoch: {i*50}\")\n",
        "    # plt.plot(pareto_bstray_points[i], pareto_kdiff_points[i])\n",
        "    i+=1\n",
        "plt.legend()\n",
        "# plt.savefig('Pareto_Bstray_Kdiff_1000Epoch_256Noise_linfit.png')\n",
        "plt.show()"
      ]
    },
    {
      "cell_type": "code",
      "execution_count": null,
      "metadata": {
        "id": "xGvOxnZs0VkR"
      },
      "outputs": [],
      "source": [
        "i = 0\n",
        "plt.figure(figsize=(10, 5))\n",
        "plt.suptitle(f\"Pareto V_SecCore vs Power Avg During Training\")\n",
        "plt.title(f\" {n_epochs} epochs, {n_noise} noise, Loss = spline fit\")\n",
        "plt.xlabel(\"V_SecCore\")\n",
        "plt.ylabel(\"Pave\")\n",
        "plt.xlim([0,3000])\n",
        "plt.ylim([0, 200])\n",
        "\n",
        "while i < len(pareto_V_SecCore_points):\n",
        "    plt.plot(pareto_V_SecCore_points[i], pareto_pave_post_points[i], label = f\"epoch: {i*50}\")\n",
        "    # plt.plot(pareto_bstray_points[i], pareto_kdiff_points[i])\n",
        "    i+=1\n",
        "plt.legend()\n",
        "# plt.savefig('Pareto_Bstray_Kdiff_1000Epoch_256Noise_linfit.png')\n",
        "plt.show()"
      ]
    },
    {
      "cell_type": "code",
      "execution_count": null,
      "metadata": {
        "id": "U5hmkZRF0VkS"
      },
      "outputs": [],
      "source": [
        "i = 0\n",
        "plt.figure(figsize=(10, 5))\n",
        "plt.suptitle(f\"Pareto Bstray vs Kdiff During Training\")\n",
        "plt.title(f\" {n_epochs} epochs, {n_noise} noise, Loss = spline fit\")\n",
        "plt.xlabel(\"Bstray\")\n",
        "plt.ylabel(\"Coupling %\")\n",
        "plt.xlim([0,100])\n",
        "plt.ylim([0,0.50])\n",
        "\n",
        "print(len(pareto_bstray_points), len(pareto_kdiff_points))\n",
        "\n",
        "while i < len(pareto_bstray_points):\n",
        "    #plt.scatter(pareto_bstray_points[i], pareto_kdiff_points[i], label = f\"epoch: {i*100}\")\n",
        "    plt.scatter(pareto_bstray_points[i], pareto_kdiff_points[i])\n",
        "    i+=1\n",
        "plt.legend()\n",
        "plt.savefig('Pareto_Bstray_Kdiff_1000Epoch_256Noise_linfit.png')\n",
        "plt.show()"
      ]
    },
    {
      "cell_type": "code",
      "execution_count": null,
      "metadata": {
        "id": "U4ZPapw10VkS"
      },
      "outputs": [],
      "source": [
        "i = 0\n",
        "print(len(bstray_designs))\n",
        "#colors = numpy.arange(len(bstray_designs))\n",
        "colors = numpy.arange(1000)\n",
        "plt.figure(figsize=(10, 5))\n",
        "plt.suptitle(f\"Bstray vs Kdiff During Training, Generated Designs\")\n",
        "plt.title(f\" {n_epochs} epochs, {n_noise} noise, Loss = spline fit\")\n",
        "plt.xlabel(\"Bstray\")\n",
        "plt.ylabel(\"Coupling %\")\n",
        "plt.xlim([0,100])\n",
        "plt.ylim([0,0.50])\n",
        "\n",
        "while i < len(bstray_designs):\n",
        "    #plt.scatter(pareto_bstray_points[i], pareto_kdiff_points[i], label = f\"epoch: {i*100}\")\n",
        "    #fig = plt.scatter(bstray_designs[i], kdiff_designs[i],c=i, cmap='viridis')\n",
        "    fig = plt.scatter(bstray_designs[i], kdiff_designs[i], label = f\"epoch: {i*100}\")\n",
        "    i+=1\n",
        "    \n",
        "# plt.colorbar()\n",
        "plt.legend()\n",
        "# from matplotlib.patches import Rectangle\n",
        "# someX, someY = 45, 0.5\n",
        "# fig,ax = plt.subplots()\n",
        "# currentAxis = plt.gca()\n",
        "# currentAxis.add_patch(Rectangle((someX -0.1, someY-0.1), 0.2, 0.2, alpha=0.5, facecolor='red'))\n",
        "#plt.savefig('Bstray_Kdiff_1000Epoch_256Noise_linfit.png')\n",
        "plt.show()"
      ]
    },
    {
      "cell_type": "code",
      "execution_count": null,
      "metadata": {
        "id": "jFHxYg9o0VkT"
      },
      "outputs": [],
      "source": [
        "i = 0\n",
        "fig, ax = plt.subplots()\n",
        "\n",
        "while i < len(bstray_designs):\n",
        "    #plt.scatter(pareto_bstray_points[i], pareto_kdiff_points[i], label = f\"epoch: {i*100}\")\n",
        "    #fig = plt.scatter(bstray_designs[i], kdiff_designs[i],c=i, cmap='viridis')\n",
        "    ax.scatter(bstray_designs[i], kdiff_designs[i], label = f\"epoch: {i*50}\")\n",
        "    i+=1\n",
        "\n",
        "plt.xlim(0,200)\n",
        "plt.ylim(0, 0.2)\n",
        "plt.legend(title='Training Iteration:')\n",
        "plt.xlabel(\"Bstray\", fontsize = 18)\n",
        "plt.ylabel('Coupling %', fontsize = 18)\n",
        "plt.suptitle(f\"Bstray vs Kdiff During Training, \\n Generated Designs\" , fontsize = 20, y=1.01)\n",
        "# plt.title(f\" {n_epochs} epochs, {n_noise} noise, normalized:{normalize}, Loss = curve fit with {chosen_curve_util.__name__}\")\n",
        "plt.title(f\" {n_epochs} epochs, {n_noise} noise, Loss = spline fit\")\n",
        "\n",
        "rect = patches.Rectangle(( 0,0 ), 45, 0.15, alpha = 0.2, ec = \"Crimson\", fc = \"Red\", visible = True)\n",
        "ax.add_patch(rect)\n",
        "plt.rcParams[\"figure.figsize\"] = (8,8)\n",
        "plt.figure(figsize=(8, 8))\n",
        "plt.show()"
      ]
    },
    {
      "cell_type": "code",
      "execution_count": null,
      "metadata": {
        "id": "rwKnPlko0VkU"
      },
      "outputs": [],
      "source": [
        "i = 0\n",
        "fig, ax = plt.subplots()\n",
        "\n",
        "while i < len(numinv_designs):\n",
        "    #plt.scatter(pareto_bstray_points[i], pareto_kdiff_points[i], label = f\"epoch: {i*100}\")\n",
        "    #fig = plt.scatter(bstray_designs[i], kdiff_designs[i],c=i, cmap='viridis')\n",
        "    ax.scatter(numinv_designs[i], coilloss_designs[i], label = f\"epoch: {i*50}\")\n",
        "    i+=1\n",
        "\n",
        "plt.xlim(0,2)\n",
        "plt.ylim(0, 10000)\n",
        "plt.legend(title='Training Iteration:')\n",
        "plt.xlabel(\"Num Inverters\", fontsize = 18)\n",
        "plt.ylabel('Coil Loss', fontsize = 18)\n",
        "plt.suptitle(f\"Number of Inverters vs Coil Loss During Training, \\n Generated Designs\" , fontsize = 20, y=1.01)\n",
        "\n",
        "plt.title(f\" {n_epochs} epochs, {n_noise} noise, Loss = spline fit\")\n",
        "\n",
        "rect = patches.Rectangle(( 0,2 ), 1, 2000, alpha = 0.2, ec = \"Crimson\", fc = \"Red\", visible = True)\n",
        "ax.add_patch(rect)\n",
        "plt.rcParams[\"figure.figsize\"] = (8,8)\n",
        "plt.figure(figsize=(8, 8))\n",
        "plt.show()"
      ]
    },
    {
      "cell_type": "code",
      "execution_count": null,
      "metadata": {
        "id": "XRime0SS0VkV"
      },
      "outputs": [],
      "source": [
        "i = 0\n",
        "fig, ax = plt.subplots()\n",
        "\n",
        "while i < len(V_SecCore_designs):\n",
        "\n",
        "    ax.scatter(V_SecCore_designs[i], pave_designs[i], label = f\"epoch: {i*50}\")\n",
        "    i+=1\n",
        "\n",
        "plt.xlim(0,5000)\n",
        "plt.ylim(0, 200)\n",
        "plt.legend(title='Training Iteration:')\n",
        "plt.xlabel(\"V_SecCore\", fontsize = 18)\n",
        "plt.ylabel('Pave', fontsize = 18)\n",
        "plt.suptitle(f\"V_SecCore vs Power Average During Training \\n Generated Designs\" , fontsize = 20, y=1.01)\n",
        "\n",
        "plt.title(f\" {n_epochs} epochs, {n_noise} noise, Loss = spline fit\")\n",
        "\n",
        "rect = patches.Rectangle((0,30), 1500, 200, alpha = 0.2, ec = \"Crimson\", fc = \"Red\", visible = True)\n",
        "ax.add_patch(rect)\n",
        "plt.rcParams[\"figure.figsize\"] = (8,8)\n",
        "plt.figure(figsize=(8, 8))\n",
        "plt.show()"
      ]
    },
    {
      "cell_type": "code",
      "execution_count": null,
      "metadata": {
        "id": "yhbN9uS50VkV"
      },
      "outputs": [],
      "source": [
        "noise = generate_noise(shape=(10_000, 10))\n",
        "gp = gp_model(noise)\n",
        "\n",
        "# Unpack and filter GP parameters\n",
        "a, lpx, lpy, ls, p, wp, ws, ip, np, ns, ys = scale_and_extract(gp)\n",
        "gp_parameters = stack_parameters(a, lpx, lpy, ls, p, wp, ws, *ys)\n",
        "extra_parameters = stack_parameters(ip, np, ns).transpose(0, 1)\n",
        "\n",
        "# Push GP parameters through MP model\n",
        "mp_parameters = mp_model(gp_parameters)\n",
        "\n",
        "# Scale MP parameters\n",
        "y = torch.Tensor(df_mp.values).transpose(0, 1).to(\"cuda\")\n",
        "min_y = torch.min(y, 1).values\n",
        "max_y = torch.max(y, 1).values\n",
        "mp_parameters = mp_parameters * (max_y - min_y) + min_y\n",
        "\n",
        "k_parameters = mp_parameters.transpose(0, 1)[0:6]\n",
        "l_parameters = mp_parameters.transpose(0, 1)[6:18]\n",
        "b_parameters = mp_parameters.transpose(0, 1)[18:]\n",
        "\n",
        "# Calculate losses\n",
        "kdiff = kdiff_loss(k_parameters)\n",
        "bstray = bstray_loss(k_parameters, l_parameters, b_parameters, extra_parameters)\n",
        "\n",
        "pareto_bstray, pareto_kdiff = pareto_frontier(bstray, kdiff)\n",
        "pareto_kdiff = pareto_kdiff * 100\n",
        "\n",
        "plt.plot(pareto_bstray.detach().cpu(), pareto_kdiff.detach().cpu())"
      ]
    },
    {
      "cell_type": "code",
      "execution_count": null,
      "metadata": {
        "id": "VRQU48QF0VkW"
      },
      "outputs": [],
      "source": [
        "noise = generate_noise(shape=(25_000, 10))\n",
        "gp = gp_model(noise)\n",
        "\n",
        "# Unpack and filter GP parameters\n",
        "a, lpx, lpy, ls, p, wp, ws, ip, np, ns, ys = scale_and_extract(gp)\n",
        "gp_parameters = stack_parameters(a, lpx, lpy, ls, p, wp, ws, *ys)\n",
        "extra_parameters = stack_parameters(ip, np, ns).transpose(0, 1)\n",
        "\n",
        "# Push GP parameters through MP model\n",
        "mp_parameters = mp_model(gp_parameters)\n",
        "\n",
        "# Scale MP parameters\n",
        "y = torch.Tensor(df_mp.values).transpose(0, 1).to(\"cuda\")\n",
        "min_y = torch.min(y, 1).values\n",
        "max_y = torch.max(y, 1).values\n",
        "mp_parameters = mp_parameters * (max_y - min_y) + min_y\n",
        "\n",
        "k_parameters = mp_parameters.transpose(0, 1)[0:6]\n",
        "l_parameters = mp_parameters.transpose(0, 1)[6:18]\n",
        "b_parameters = mp_parameters.transpose(0, 1)[18:]\n",
        "\n",
        "# Calculate losses\n",
        "kdiff = kdiff_loss(k_parameters)\n",
        "bstray = bstray_loss(k_parameters, l_parameters, b_parameters, extra_parameters)\n",
        "\n",
        "plt.scatter(bstray.detach().cpu(), kdiff.detach().cpu())\n",
        "plt.title(\"Randomly generated points after GP reshaping\")\n",
        "plt.xlabel(\"Bstray\")\n",
        "plt.ylabel(\"Kdiff\")\n",
        "plt.show()"
      ]
    },
    {
      "cell_type": "code",
      "execution_count": null,
      "metadata": {
        "id": "TytB-H_q0VkX"
      },
      "outputs": [],
      "source": [
        "noise = generate_noise(shape=(3, 10))\n",
        "gp = gp_model(noise)\n",
        "\n",
        "noise = noise.cpu().numpy()\n",
        "gp = gp.cpu().detach().numpy()\n",
        "\n",
        "for i in range(3):\n",
        "    print(f\"Noise {i}\")\n",
        "    print(noise[i])\n",
        "    print()\n",
        "    print(f\"Generated Parameters {i}\")\n",
        "    print(gp[i])\n",
        "    print()"
      ]
    },
    {
      "cell_type": "code",
      "execution_count": null,
      "metadata": {
        "id": "Sm14O1220VkZ"
      },
      "outputs": [],
      "source": [
        "plt.figure(figsize=(10, 5))\n",
        "plt.title(f\"KDiff Error During Training\")\n",
        "plt.xlabel(\"Epoch\")\n",
        "plt.ylabel(\"Coupling %\")\n",
        "\n",
        "plt.plot(numpy.arange(len(kdiffs)), kdiffs)\n",
        "plt.show()\n",
        "\n",
        "\n",
        "plt.figure(figsize=(10, 5))\n",
        "plt.title(f\"BStray Error During Training\")\n",
        "plt.xlabel(\"Epoch\")\n",
        "plt.ylabel(\"BStray\")\n",
        "\n",
        "plt.plot(numpy.arange(len(bstrays)), bstrays)\n",
        "plt.show()"
      ]
    },
    {
      "cell_type": "code",
      "execution_count": null,
      "metadata": {
        "id": "i-L-Q7cm0Vkb"
      },
      "outputs": [],
      "source": [
        "accepted_solutions[0] = 0\n",
        "max_value = max(accepted_solutions)\n",
        "max_index = accepted_solutions.index(max_value)\n",
        "\n",
        "plt.plot([ i*10 for i in range(len(accepted_solutions))], accepted_solutions)\n",
        "# plt.plot(epoch, accepted_solutions)\n",
        "\n",
        "# # plt.scatter(mark, marked_points, marker='o',color='y')\n",
        "# plt.scatter([max_index], [max_value], marker = 'o', color = 'r')\n",
        "\n",
        "# plt.annotate('Max number of solutions ('+ str(max_value)+') at epoch '+str(max_index), xy=(max_index,max_value), xycoords='data',\n",
        "#             xytext=(-90,60), textcoords='offset points',\n",
        "#             arrowprops=dict(arrowstyle='fancy',fc='0.2',\n",
        "#                             connectionstyle=\"angle3,angleA=45,angleB=90\"))\n",
        "plt.xlabel(\"Number of epochs\")\n",
        "plt.ylabel(\"Accepted solutions out of 1000\")\n",
        "plt.title(\"Random Generation\")\n",
        "plt.savefig(\"RandomGeneration/\" + \"soultions_per_epoch.png\")\n",
        "plt.show()\n",
        "plt.clf()"
      ]
    },
    {
      "cell_type": "code",
      "execution_count": null,
      "metadata": {
        "id": "V4utlWvi0Vkb"
      },
      "outputs": [],
      "source": []
    }
  ],
  "metadata": {
    "accelerator": "GPU",
    "colab": {
      "collapsed_sections": [],
      "provenance": []
    },
    "kernelspec": {
      "display_name": "Python 3 (ipykernel)",
      "language": "python",
      "name": "python3"
    },
    "language_info": {
      "codemirror_mode": {
        "name": "ipython",
        "version": 3
      },
      "file_extension": ".py",
      "mimetype": "text/x-python",
      "name": "python",
      "nbconvert_exporter": "python",
      "pygments_lexer": "ipython3",
      "version": "3.9.12"
    }
  },
  "nbformat": 4,
  "nbformat_minor": 0
}