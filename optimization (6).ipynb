{
 "cells": [
  {
   "cell_type": "markdown",
   "metadata": {},
   "source": [
    "# Import libraries"
   ]
  },
  {
   "cell_type": "code",
   "execution_count": 1,
   "metadata": {
    "colab": {
     "base_uri": "https://localhost:8080/"
    },
    "id": "iZN2u5WKRFqR",
    "outputId": "6842718b-36d3-4c1c-b523-796de23e5470"
   },
   "outputs": [],
   "source": [
    "import torch\n",
    "\n",
    "import os\n",
    "import random\n",
    "import pandas\n",
    "import numpy\n",
    "from scipy.optimize import curve_fit\n",
    "\n",
    "import matplotlib.pyplot as plt\n",
    "import matplotlib.patches as patches\n",
    "\n",
    "# seed = 7777\n",
    "# random.seed(seed) \n",
    "# torch.manual_seed(seed);"
   ]
  },
  {
   "cell_type": "markdown",
   "metadata": {},
   "source": [
    "# Load Saved MP (Magnetic Parameter) Model"
   ]
  },
  {
   "cell_type": "code",
   "execution_count": 2,
   "metadata": {
    "id": "B-TMPJtCKIM6"
   },
   "outputs": [],
   "source": [
    "# 12 input -> 42 output\n",
    "class MpModel(torch.nn.Module):\n",
    "    def __init__(self):\n",
    "        super(MpModel, self).__init__()\n",
    "\n",
    "        self.linear1 = torch.nn.Linear(12, 100, bias=True)\n",
    "        self.linear2 = torch.nn.Linear(100, 100, bias=True)\n",
    "        self.linear3 = torch.nn.Linear(100, 42, bias=True)\n",
    "\n",
    "    def forward(self, x):\n",
    "        x = torch.atan(self.linear1(x))\n",
    "        x = torch.atan(self.linear2(x))\n",
    "        x = torch.atan(self.linear2(x))\n",
    "        x = self.linear3(x)\n",
    "        return x\n",
    "\n",
    "\n",
    "mp_model = MpModel().to(\"cuda\")\n",
    "mp_model.load_state_dict(torch.load(\"saved_model_state.pt\"))\n",
    "\n",
    "for param in mp_model.parameters():\n",
    "    param.requires_grad = False"
   ]
  },
  {
   "cell_type": "markdown",
   "metadata": {},
   "source": [
    "# Create GP (Geometry Paramter) Generator"
   ]
  },
  {
   "cell_type": "code",
   "execution_count": 3,
   "metadata": {
    "id": "z9cggAl1BGHo"
   },
   "outputs": [
    {
     "name": "stderr",
     "output_type": "stream",
     "text": [
      "C:\\Users\\arist\\anaconda3\\lib\\site-packages\\torch\\nn\\modules\\lazy.py:178: UserWarning: Lazy modules are a new feature under heavy development so changes to the API or functionality can happen at any moment.\n",
      "  warnings.warn('Lazy modules are a new feature under heavy development '\n"
     ]
    }
   ],
   "source": [
    "class GpModel(torch.nn.Module):\n",
    "    def __init__(self, input_length: int):\n",
    "        super(GpModel, self).__init__()\n",
    "\n",
    "        self.dense_layer1 = torch.nn.Linear(int(input_length), 128)\n",
    "        self.dense_layer2 = torch.nn.Linear(128, 256)\n",
    "        self.dense_layer3 = torch.nn.Linear(256, 512)\n",
    "        self.dense_layer4 = torch.nn.Linear(512, 256)\n",
    "        self.dense_layer5 = torch.nn.Linear(256, 128)\n",
    "        self.dense_layer6 = torch.nn.Linear(128, int(input_length))\n",
    "        \n",
    "        self.batch_norm1 = torch.nn.LazyBatchNorm1d()\n",
    "        self.batch_norm2 = torch.nn.LazyBatchNorm1d()\n",
    "        self.batch_norm3 = torch.nn.LazyBatchNorm1d()\n",
    "        self.batch_norm4 = torch.nn.LazyBatchNorm1d()\n",
    "        self.batch_norm5 = torch.nn.LazyBatchNorm1d()\n",
    "\n",
    "    def forward(self, x):\n",
    "        x = self.batch_norm1(torch.atan(self.dense_layer1(x)))\n",
    "        x = self.batch_norm2(torch.atan(self.dense_layer2(x)))\n",
    "        x = self.batch_norm3(torch.atan(self.dense_layer3(x)))\n",
    "        x = self.batch_norm4(torch.atan(self.dense_layer4(x)))\n",
    "        x = self.batch_norm5(torch.atan(self.dense_layer5(x)))\n",
    "        x = torch.sigmoid(self.dense_layer6(x))\n",
    "        return x\n",
    "\n",
    "\n",
    "gp_model = GpModel(10).to(\"cuda\")\n",
    "optimizer = torch.optim.Adam(gp_model.parameters(), lr=3e-4)"
   ]
  },
  {
   "cell_type": "markdown",
   "metadata": {},
   "source": [
    "# System Constraints"
   ]
  },
  {
   "cell_type": "code",
   "execution_count": 4,
   "metadata": {
    "id": "Bse1wsKN1NxY"
   },
   "outputs": [],
   "source": [
    "# x-direction of the primary winding (mm)\n",
    "lpx_min, lpx_max = (50.0, 650.0)\n",
    "\n",
    "# y-direction of the primary winding (mm)\n",
    "lpy_min, lpy_max = (50.0, 2050.0)\n",
    "\n",
    "# width of the primary winding (mm)\n",
    "wp_min, wp_max = (25.0, 325.0)\n",
    "\n",
    "# length of the edge of the primary core (mm)\n",
    "a_min, a_max = (0.0, 200.0)\n",
    "\n",
    "# pitch of the adjacent cores (mm)\n",
    "p_min, p_max = (0.0, 200.0)\n",
    "\n",
    "# length of the secondary winding (mm)\n",
    "ls_min, ls_max = (50.0, 450.0)\n",
    "\n",
    "# width of the secondary winding (mm)\n",
    "ws_min, ws_max = (25.0, 225.0)\n",
    "\n",
    "# input RMS current (A)\n",
    "ip_min, ip_max = (50.0, 200.0)\n",
    "\n",
    "# turn number of the primary side\n",
    "np_min, np_max = (4.0, 10.0)\n",
    "\n",
    "# turn number of the secondary side\n",
    "ns_min, ns_max = (4.0, 10.0)\n",
    "\n",
    "# switching frequency (kHz)\n",
    "f = 85 * (10 ** 3)\n",
    "\n",
    "# output power at the center (kW)\n",
    "p_out = 50 * (10 ** 3)\n",
    "\n",
    "# input DC voltage (V)\n",
    "v_dc = 400\n",
    "\n",
    "# output DC voltage (V)\n",
    "v_bat = 400\n",
    "\n",
    "# length of the edge of the secondary core\n",
    "b = 50\n",
    "\n",
    "# ???\n",
    "w = 2 * numpy.pi * f  # [rad/s]\n",
    "\n",
    "# ???\n",
    "q_coil = 400"
   ]
  },
  {
   "cell_type": "markdown",
   "metadata": {},
   "source": [
    "# Helper functions"
   ]
  },
  {
   "cell_type": "code",
   "execution_count": 5,
   "metadata": {
    "id": "brlwMfzj1Nxh"
   },
   "outputs": [],
   "source": [
    "# Creates a tensor of shape [num, *start.shape] whose values are evenly spaced from start to end, inclusive.\n",
    "# Replicates but the multi-dimensional bahaviour of numpy.linspace in PyTorch.\n",
    "\n",
    "@torch.jit.script\n",
    "def linspace(start: torch.Tensor, stop: torch.Tensor, num: int):\n",
    "    # create a tensor of 'num' steps from 0 to 1\n",
    "    steps = torch.arange(num, dtype=torch.float32, device=start.device) / (num - 1)\n",
    "\n",
    "    # reshape the 'steps' tensor to [-1, *([1]*start.ndim)] to allow for broadcastings\n",
    "    # - using 'steps.reshape([-1, *([1]*start.ndim)])' would be nice here but torchscript\n",
    "    #   \"cannot statically infer the expected size of a list in this contex\", hence the code below\n",
    "    for i in range(start.ndim):\n",
    "        steps = steps.unsqueeze(-1)\n",
    "\n",
    "    # the output starts at 'start' and increments until 'stop' in each dimension\n",
    "    out = start[None] + steps * (stop - start)[None]\n",
    "\n",
    "    return out"
   ]
  },
  {
   "cell_type": "code",
   "execution_count": 6,
   "metadata": {
    "id": "dMoXnTFV8U1P"
   },
   "outputs": [],
   "source": [
    "# Generate a pytorch tensor full of random floats in the range [-1, +1] with the given shape\n",
    "\n",
    "def generate_noise(shape):\n",
    "    return torch.distributions.uniform.Uniform(-1, +1).sample(shape).cuda()"
   ]
  },
  {
   "cell_type": "code",
   "execution_count": 7,
   "metadata": {
    "id": "xloGE25R8Jtm"
   },
   "outputs": [],
   "source": [
    "def stack_parameters(*params):\n",
    "    return torch.stack(params).transpose(0, 1)\n",
    "\n",
    "\n",
    "# Scale an array to be between our specified [min, max] contraints\n",
    "def scale(arr):\n",
    "    scaler_min = torch.tensor(\n",
    "        [a_min, lpx_min, lpy_min, ls_min, p_min, wp_min, ws_min, ip_min, np_min, ns_min],\n",
    "        device=\"cuda\",\n",
    "    )\n",
    "    scaler_max = torch.tensor(\n",
    "        [a_max, lpx_max, lpy_max, ls_max, p_max, wp_max, ws_max, ip_max, np_max, ns_max],\n",
    "        device=\"cuda\",\n",
    "    )\n",
    "\n",
    "    return arr * (scaler_max - scaler_min) + scaler_min\n",
    "\n",
    "\n",
    "def extract(arr):\n",
    "    a, lpx, lpy, ls, p, wp, ws, ip, np, ns = [\n",
    "        numpy.squeeze(x) for x in numpy.hsplit(arr, 10)\n",
    "    ]\n",
    "\n",
    "    ys_min = (\n",
    "        5 * wp +\n",
    "        4 * a +\n",
    "        3 * lpy +\n",
    "        2 * p\n",
    "    )\n",
    "\n",
    "    ys_max = (lpy + wp)\n",
    "    ys_max = ys_min + (ys_min - ys_max) / 2\n",
    "\n",
    "    ys_min /= 2\n",
    "    ys_max /= 2\n",
    "\n",
    "    ys = linspace(ys_min, ys_max, num=5)\n",
    "\n",
    "    np = torch.round(np)\n",
    "    ns = torch.round(ns)\n",
    "\n",
    "    # take all 15 tensors of shape (X) and convert to (15, X)\n",
    "    return a, lpx, lpy, ls, p, wp, ws, ip, np, ns, ys\n",
    "\n",
    "\n",
    "def scale_and_extract(arr):\n",
    "    scaled_array = scale(arr)\n",
    "    return extract(scaled_array)"
   ]
  },
  {
   "cell_type": "code",
   "execution_count": 8,
   "metadata": {
    "colab": {
     "base_uri": "https://localhost:8080/"
    },
    "id": "44TlTSnclCKs",
    "outputId": "c2d4a61b-35c8-42ad-99f9-98c99022a0b2"
   },
   "outputs": [
    {
     "name": "stdout",
     "output_type": "stream",
     "text": [
      "\n",
      "    GP Parameters Shape:    torch.Size([256, 12])\n",
      "    Extra Parameters Shape: torch.Size([256, 3])\n",
      "    MP Model Output Shape:  torch.Size([256, 42])\n",
      "    \n"
     ]
    }
   ],
   "source": [
    "# Enclose in a function so we don't leak variables\n",
    "def test_models():\n",
    "    noise = generate_noise(shape=(256, 10))\n",
    "    gp = gp_model(noise)\n",
    "    a, lpx, lpy, ls, p, wp, ws, ip, np, ns, ys = scale_and_extract(gp)\n",
    "\n",
    "    gp_parameters = stack_parameters(a, lpx, lpy, ls, p, wp, ws, *ys)\n",
    "    extra_parameters = stack_parameters(ip, np, ns)\n",
    "\n",
    "    mp = mp_model(gp_parameters)\n",
    "\n",
    "    print(f\"\"\"\n",
    "    GP Parameters Shape:    {gp_parameters.shape}\n",
    "    Extra Parameters Shape: {extra_parameters.shape}\n",
    "    MP Model Output Shape:  {mp.shape}\n",
    "    \"\"\")\n",
    "test_models()"
   ]
  },
  {
   "cell_type": "code",
   "execution_count": 9,
   "metadata": {
    "id": "eEb7J5bOFEEr"
   },
   "outputs": [],
   "source": [
    "\"\"\"\n",
    "Method to take two equally-sized lists and return just the elements which lie \n",
    "on the Pareto frontier, sorted into order.\n",
    "Default behaviour is to find the maximum for both X and Y, but the option is\n",
    "available to specify maxX = False or maxY = False to find the minimum for either\n",
    "or both of the parameters.\n",
    "\"\"\"\n",
    "\n",
    "\n",
    "def pareto_frontier(x, y, max_x=False):\n",
    "    if max_x:\n",
    "        return _pareto_frontier(y, x)\n",
    "    else:\n",
    "        return _pareto_frontier(x, y)\n",
    "\n",
    "\n",
    "def _pareto_frontier(x, y):\n",
    "    # Combine inputs and sort them with smallest X values coming first\n",
    "    sorted_xy = sorted(zip(x, y))\n",
    "    p_front_x = torch.zeros(len(x), device=\"cuda\")\n",
    "    p_front_y = torch.zeros(len(y), device=\"cuda\")\n",
    "    \n",
    "    # Loop through the sorted list\n",
    "    #   Look for lower values of Y…\n",
    "    #   and add them to the Pareto frontier\n",
    "    min_y = sorted_xy[0][1]\n",
    "    for index in range(len(sorted_xy)):\n",
    "        x, y = sorted_xy[index]\n",
    "        if y < min_y:\n",
    "            min_y = y\n",
    "            p_front_x[index] = x\n",
    "            p_front_y[index] = y\n",
    "            \n",
    "    p_front_x = p_front_x[p_front_x.nonzero()]\n",
    "    p_front_y = p_front_y[p_front_y.nonzero()]\n",
    "\n",
    "    return p_front_x, p_front_y"
   ]
  },
  {
   "cell_type": "code",
   "execution_count": 10,
   "metadata": {},
   "outputs": [],
   "source": [
    "def y_util(x, a, b, c):\n",
    "    return (1 / (a * (x**b)))**c"
   ]
  },
  {
   "cell_type": "markdown",
   "metadata": {},
   "source": [
    "# Load DWPT data"
   ]
  },
  {
   "cell_type": "code",
   "execution_count": 11,
   "metadata": {
    "id": "jkTrlAJMH5UO"
   },
   "outputs": [
    {
     "name": "stdout",
     "output_type": "stream",
     "text": [
      "(1010, 12)\n",
      "(1010, 42)\n"
     ]
    }
   ],
   "source": [
    "def load_dwpt():\n",
    "    folder_name = \"./dwpt_v5\"\n",
    "    file_names = [\n",
    "        \"DWPT_v5_N10\",\n",
    "        \"DWPT_v5_N100\",\n",
    "        \"DWPT_v5_N200\",\n",
    "        \"DWPT_v5_N300\",\n",
    "        \"DWPT_v5_N400\",\n",
    "    ]\n",
    "\n",
    "    df = pandas.DataFrame()\n",
    "\n",
    "    for file_name in file_names:\n",
    "        new_df = pandas.read_csv(f\"{folder_name}/{file_name}_after.csv\", index_col=0)\n",
    "        df = pandas.concat([df, new_df])\n",
    "\n",
    "    return df\n",
    "\n",
    "df = load_dwpt()\n",
    "df_gp = df.loc[:, :\"ys4[mm]\"]\n",
    "df_mp = df.loc[:, \"k0mm_ys0\":]\n",
    "\n",
    "print(df_gp.shape)\n",
    "print(df_mp.shape)"
   ]
  },
  {
   "cell_type": "markdown",
   "metadata": {},
   "source": [
    "# Define Loss Functions"
   ]
  },
  {
   "cell_type": "code",
   "execution_count": 12,
   "metadata": {},
   "outputs": [],
   "source": [
    "def kdiff_loss(k_parameters):\n",
    "    (\n",
    "        k_0_0, k_0_1, k_0_2, k_0_3, k_0_4, k_1_0,\n",
    "    ) = k_parameters\n",
    "\n",
    "    kdiff = abs(k_0_0 - k_1_0)\n",
    "    kdiff = kdiff / torch.max(abs(k_0_0), abs(k_1_0))\n",
    "\n",
    "    # their kdiff - why is there a difference?\n",
    "    #   kdiff = abs(k00 - k10) / k00\n",
    "\n",
    "    return kdiff\n",
    "\n",
    "\n",
    "\n",
    "def bstray_loss(k_parameters, l_parameters, b_parameters, extra_parameters):\n",
    "    # Unpack parameters\n",
    "    (\n",
    "        k_0_0, k_0_1, k_0_2, k_0_3, k_0_4, k_1_0,\n",
    "    ) = k_parameters\n",
    "    (\n",
    "        lp_0_0, lp_0_1, lp_0_2, lp_0_3, lp_0_4,\n",
    "        ls_0_0, ls_0_1, ls_0_2, ls_0_3, ls_0_4,\n",
    "        lp_1_0, ls_1_0,\n",
    "    ) = l_parameters\n",
    "    (\n",
    "        bx_p_0_00, by_p_0_00, bz_p_0_00,\n",
    "        bx_p_0_90, by_p_0_90, bz_p_0_90,\n",
    "        bx_s_0_00, by_s_0_00, bz_s_0_00,\n",
    "        bx_s_0_90, by_s_0_90, bz_s_0_90,\n",
    "\n",
    "        bx_p_1_00, by_p_1_00, bz_p_1_00,\n",
    "        bx_p_1_90, by_p_1_90, bz_p_1_90,\n",
    "        bx_s_1_00, by_s_1_00, bz_s_1_00,\n",
    "        bx_s_1_90, by_s_1_90, bz_s_1_90,\n",
    "    ) = b_parameters\n",
    "    (\n",
    "        ip, np, ns\n",
    "    ) = extra_parameters\n",
    "\n",
    "    # Scale l_parameters\n",
    "    lp_0_0 = lp_0_0 * np ** 2\n",
    "    ls_0_0 = ls_0_0 * ns ** 2\n",
    "\n",
    "    # Calculate Is\n",
    "    # n1 = (numpy.pi * w) * (lp_0_0 * 10 ** -9) * (ip * numpy.sqrt(2) / (4 * v_dc))\n",
    "    # t1 = (numpy.pi) ** 2 * w * (lp_0_0 * 10 ** -9 * ls_0_0 * 10 ** -9) ** 0.5\n",
    "    # t2 = p_out / (8 * k_0_0 * n1 * v_dc * v_bat)\n",
    "    # n2 = t1 * t2\n",
    "    # # \"Is\" is way too big?\n",
    "    # Is = 4 * n2 * v_bat / (numpy.pi * w * ls_0_0 * 10 ** -9) / numpy.sqrt(2)\n",
    "    \n",
    "    # Paper formula\n",
    "    n1 = (torch.pi * w * lp_0_0 * ip) / (2 * numpy.sqrt(2) * v_dc)\n",
    "    t1 = (torch.pi ** 2 * w * p_out * torch.sqrt(lp_0_0 * ls_0_0))\n",
    "    t2 = 8 * k_0_0 * n1 * v_dc * v_bat\n",
    "    n2 = t1 / t2\n",
    "    Is = (4 * v_bat * n2) / (torch.pi * w * ls_0_0)\n",
    "\n",
    "    # Calculate B_0mm - unneeded since b100mm always bigger?\n",
    "    # bx_0 = (\n",
    "    #     (bx_p_0_00 * ip * np + bx_s_0_00 * Is * ns) ** 2 +\n",
    "    #     (bx_p_0_90 * ip * np + bx_s_0_90 * Is * ns) ** 2\n",
    "    # ) ** 0.5\n",
    "    # by_0 = (\n",
    "    #     (by_p_0_00 * ip * np + by_s_0_00 * Is * ns) ** 2 +\n",
    "    #     (by_p_0_90 * ip * np + by_s_0_90 * Is * ns) ** 2\n",
    "    # ) ** 0.5\n",
    "    # bz_0 = (\n",
    "    #     (bz_p_0_00 * ip * np + bz_s_0_00 * Is * ns) ** 2 +\n",
    "    #     (bz_p_0_90 * ip * np + bz_s_0_90 * Is * ns) ** 2\n",
    "    # ) ** 0.5\n",
    "    # b_0 = (bx_0**2 + by_0**2 + bz_0**2) ** 0.5\n",
    "\n",
    "    # Calculate B_100mm\n",
    "    bx_100 = (\n",
    "        (bx_p_1_00 * ip * np + bx_s_1_00 * Is * ns) ** 2 +\n",
    "        (bx_p_1_90 * ip * np + bx_s_1_90 * Is * ns) ** 2\n",
    "    ) ** 0.5\n",
    "    by_100 = (\n",
    "        (by_p_1_00 * ip * np + by_s_1_00 * Is * ns) ** 2 +\n",
    "        (by_p_1_90 * ip * np + by_s_1_90 * Is * ns) ** 2\n",
    "    ) ** 0.5\n",
    "    bz_100 = (\n",
    "        (bz_p_1_00 * ip * np + bz_s_1_00 * Is * ns) ** 2 +\n",
    "        (bz_p_1_90 * ip * np + bz_s_1_90 * Is * ns) ** 2\n",
    "    ) ** 0.5\n",
    "    b_100 = (bx_100**2 + by_100**2 + bz_100**2) ** 0.5\n",
    "\n",
    "    # Bstray is the max between the two targets\n",
    "    # bstray = torch.max(b_0, b_100)\n",
    "    bstray = b_100\n",
    "\n",
    "    return bstray"
   ]
  },
  {
   "cell_type": "code",
   "execution_count": 13,
   "metadata": {},
   "outputs": [],
   "source": [
    "\n",
    "#     (\n",
    "#         # [0 thru 5]\n",
    "#         k_0_0, k_0_1, k_0_2, k_0_3, k_0_4, k_1_0,\n",
    "\n",
    "#         # [6 thru 17]\n",
    "#         lp_0_0, lp_0_1, lp_0_2, lp_0_3, lp_0_4,\n",
    "#         ls_0_0, ls_0_1, ls_0_2, ls_0_3, ls_0_4,\n",
    "#         lp_1_0, ls_1_0,\n",
    "\n",
    "#         # [18 thru 29]\n",
    "#         bx_p_0_00, by_p_0_00, bz_p_0_00,\n",
    "#         bx_p_0_90, by_p_0_90, bz_p_0_90,\n",
    "#         bx_s_0_00, by_s_0_00, bz_s_0_00,\n",
    "#         bx_s_0_90, by_s_0_90, bz_s_0_90,\n",
    "\n",
    "#         # [30 thru 42]\n",
    "#         bx_p_1_00, by_p_1_00, bz_p_1_00,\n",
    "#         bx_p_1_90, by_p_1_90, bz_p_1_90,\n",
    "#         bx_s_1_00, by_s_1_00, bz_s_1_00,\n",
    "#         bx_s_1_90, by_s_1_90, bz_s_1_90,\n",
    "#     )"
   ]
  },
  {
   "cell_type": "code",
   "execution_count": 14,
   "metadata": {},
   "outputs": [
    {
     "data": {
      "image/png": "[encoded data removed]",
      "text/plain": [
       "<Figure size 432x288 with 1 Axes>"
      ]
     },
     "metadata": {
      "needs_background": "light"
     },
     "output_type": "display_data"
    }
   ],
   "source": [
    "noise = generate_noise(shape=(25_000, 10))\n",
    "gp = gp_model(noise)\n",
    "\n",
    "# Unpack and filter GP parameters\n",
    "a, lpx, lpy, ls, p, wp, ws, ip, np, ns, ys = scale_and_extract(gp)\n",
    "gp_parameters = stack_parameters(a, lpx, lpy, ls, p, wp, ws, *ys)\n",
    "extra_parameters = stack_parameters(ip, np, ns).transpose(0, 1)\n",
    "\n",
    "# Push GP parameters through MP model\n",
    "mp_parameters = mp_model(gp_parameters)\n",
    "\n",
    "# Scale MP parameters\n",
    "y = torch.Tensor(df_mp.values).transpose(0, 1).to(\"cuda\")\n",
    "min_y = torch.min(y, 1).values\n",
    "max_y = torch.max(y, 1).values\n",
    "mp_parameters = mp_parameters * (max_y - min_y) + min_y\n",
    "\n",
    "k_parameters = mp_parameters.transpose(0, 1)[0:6]\n",
    "l_parameters = mp_parameters.transpose(0, 1)[6:18]\n",
    "b_parameters = mp_parameters.transpose(0, 1)[18:]\n",
    "\n",
    "# Calculate losses\n",
    "kdiff = kdiff_loss(k_parameters)\n",
    "bstray = bstray_loss(k_parameters, l_parameters, b_parameters, extra_parameters)\n",
    "\n",
    "plt.scatter(bstray.detach().cpu(), 100 * kdiff.detach().cpu())\n",
    "plt.title(\"Random Network: Bstray vs Kdiff\")\n",
    "plt.xlabel(\"BStray\")\n",
    "plt.ylabel(\"Coupling %\")\n",
    "plt.show()"
   ]
  },
  {
   "cell_type": "markdown",
   "metadata": {},
   "source": [
    "# Neural Network Training Loop"
   ]
  },
  {
   "cell_type": "code",
   "execution_count": 23,
   "metadata": {
    "colab": {
     "base_uri": "https://localhost:8080/",
     "height": 1000
    },
    "id": "OXzpQf5O1Nxk",
    "outputId": "1bc1a1b1-95ac-43d8-f1d8-5dd49e4bbb03"
   },
   "outputs": [
    {
     "name": "stderr",
     "output_type": "stream",
     "text": [
      "C:\\Users\\arist\\AppData\\Local\\Temp\\ipykernel_23496\\908143299.py:60: RuntimeWarning: overflow encountered in power\n",
      "  y_calc = torch.as_tensor(((1 /popt[0] * (pareto_bstray_numpy[:,0]**popt[1]))**popt[2])).cuda()\n"
     ]
    },
    {
     "name": "stdout",
     "output_type": "stream",
     "text": [
      "Epoch:    0\n",
      "  Combined Loss:  nan\n",
      "  Kdiff :         36.5279%\n",
      "  Bstray :        43.6414\n",
      "  Pareto Kdiff :  5.0628%\n",
      "  Pareto Bstray : 28.3706\n",
      "used mean\n"
     ]
    },
    {
     "name": "stderr",
     "output_type": "stream",
     "text": [
      "C:\\Users\\arist\\AppData\\Local\\Temp\\ipykernel_23496\\908143299.py:60: RuntimeWarning: divide by zero encountered in power\n",
      "  y_calc = torch.as_tensor(((1 /popt[0] * (pareto_bstray_numpy[:,0]**popt[1]))**popt[2])).cuda()\n",
      "C:\\Users\\arist\\AppData\\Local\\Temp\\ipykernel_23496\\2221788931.py:2: RuntimeWarning: invalid value encountered in power\n",
      "  return (1 / (a * (x**b)))**c\n"
     ]
    },
    {
     "name": "stdout",
     "output_type": "stream",
     "text": [
      "Epoch:  100\n",
      "  Combined Loss:  -2.4977579117\n",
      "  Kdiff :         40.9956%\n",
      "  Bstray :        44.2454\n",
      "  Pareto Kdiff :  5.0133%\n",
      "  Pareto Bstray : 29.0485\n",
      "used mean\n",
      "used mean\n",
      "used mean\n",
      "used mean\n",
      "Epoch:  200\n",
      "  Combined Loss:  -0.1196818352\n",
      "  Kdiff :         34.8124%\n",
      "  Bstray :        43.5081\n",
      "  Pareto Kdiff :  4.8958%\n",
      "  Pareto Bstray : 25.6637\n",
      "used mean\n",
      "used mean\n",
      "used mean\n",
      "used mean\n",
      "used mean\n",
      "used mean\n",
      "used mean\n",
      "used mean\n",
      "used mean\n",
      "used mean\n",
      "used mean\n",
      "used mean\n",
      "used mean\n",
      "used mean\n",
      "used mean\n",
      "Epoch:  300\n",
      "  Combined Loss:  nan\n",
      "  Kdiff :         30.7340%\n",
      "  Bstray :        41.6774\n",
      "  Pareto Kdiff :  5.0156%\n",
      "  Pareto Bstray : 22.5319\n",
      "used mean\n",
      "used mean\n",
      "used mean\n",
      "used mean\n",
      "used mean\n",
      "used mean\n",
      "used mean\n",
      "Epoch:  400\n",
      "  Combined Loss:  -0.1112236977\n",
      "  Kdiff :         25.6232%\n",
      "  Bstray :        40.6146\n",
      "  Pareto Kdiff :  4.9373%\n",
      "  Pareto Bstray : 22.9630\n",
      "used mean\n",
      "used mean\n",
      "used mean\n",
      "used mean\n",
      "used mean\n",
      "used mean\n",
      "used mean\n",
      "used mean\n",
      "used mean\n",
      "Epoch:  500\n",
      "  Combined Loss:  nan\n",
      "  Kdiff :         26.2743%\n",
      "  Bstray :        39.7422\n",
      "  Pareto Kdiff :  5.0049%\n",
      "  Pareto Bstray : 22.6923\n",
      "used mean\n",
      "Epoch:  600\n",
      "  Combined Loss:  nan\n",
      "  Kdiff :         28.2093%\n",
      "  Bstray :        41.2962\n",
      "  Pareto Kdiff :  4.8773%\n",
      "  Pareto Bstray : 22.8566\n",
      "used mean\n",
      "Epoch:  700\n",
      "  Combined Loss:  nan\n",
      "  Kdiff :         28.2577%\n",
      "  Bstray :        41.5783\n",
      "  Pareto Kdiff :  4.9275%\n",
      "  Pareto Bstray : 23.1060\n",
      "used mean\n",
      "Epoch:  800\n",
      "  Combined Loss:  -0.1446083784\n",
      "  Kdiff :         29.5489%\n",
      "  Bstray :        41.9470\n",
      "  Pareto Kdiff :  4.7752%\n",
      "  Pareto Bstray : 23.2174\n",
      "used mean\n",
      "used mean\n",
      "used mean\n",
      "used mean\n",
      "used mean\n",
      "Epoch:  900\n",
      "  Combined Loss:  -0.1192098260\n",
      "  Kdiff :         25.6686%\n",
      "  Bstray :        40.7016\n",
      "  Pareto Kdiff :  4.8981%\n",
      "  Pareto Bstray : 24.3462\n",
      "used mean\n",
      "used mean\n"
     ]
    }
   ],
   "source": [
    "p_front_x = []\n",
    "p_front_y = []\n",
    "pareto_bstray_points = []\n",
    "pareto_kdiff_points = []\n",
    "\n",
    "kdiffs = []\n",
    "bstrays = []\n",
    "combined_losses = []\n",
    "\n",
    "for epoch in range(1000):\n",
    "    # Clear old gradients in the GP model\n",
    "    for param in gp_model.parameters():\n",
    "        param.grad = None\n",
    "\n",
    "    # Create GP parameters from noise\n",
    "    noise = generate_noise(shape=(256, 10))\n",
    "    gp = gp_model(noise)\n",
    "\n",
    "    # Unpack and filter GP parameters\n",
    "    a, lpx, lpy, ls, p, wp, ws, ip, np, ns, ys = scale_and_extract(gp)\n",
    "    gp_parameters = stack_parameters(a, lpx, lpy, ls, p, wp, ws, *ys)\n",
    "    extra_parameters = stack_parameters(ip, np, ns).transpose(0, 1)\n",
    "\n",
    "    # Scale GP parameters - why?\n",
    "    min_x = torch.min(gp_parameters)\n",
    "    max_x = torch.max(gp_parameters)\n",
    "    gp_parameters = (gp_parameters - min_x) / (max_x - min_x)\n",
    "\n",
    "    # Push GP parameters through MP model\n",
    "    mp_parameters = mp_model(gp_parameters)\n",
    "\n",
    "    # Scale MP parameters\n",
    "    y = torch.Tensor(df_mp.values).transpose(0, 1).to(\"cuda\")\n",
    "    min_y = torch.min(y, 1).values\n",
    "    max_y = torch.max(y, 1).values\n",
    "    mp_parameters = mp_parameters * (max_y - min_y) + min_y\n",
    "\n",
    "    k_parameters = mp_parameters.transpose(0, 1)[0:6]\n",
    "    l_parameters = mp_parameters.transpose(0, 1)[6:18]\n",
    "    b_parameters = mp_parameters.transpose(0, 1)[18:]\n",
    "\n",
    "    # Calculate losses\n",
    "    kdiff = kdiff_loss(k_parameters)\n",
    "    bstray = bstray_loss(k_parameters, l_parameters, b_parameters, extra_parameters)\n",
    "    pareto_bstray, pareto_kdiff = pareto_frontier(bstray, kdiff)\n",
    "\n",
    "    # Scale losses\n",
    "    kdiff = kdiff / .15\n",
    "    bstray = bstray / 45\n",
    "    pareto_bstray, pareto_kdiff = pareto_bstray / 45, pareto_kdiff / .15\n",
    "\n",
    "    pareto_bstray_numpy = pareto_bstray.cpu().data.numpy()\n",
    "    pareto_kdiff_numpy = pareto_kdiff.cpu().data.numpy()\n",
    "\n",
    "    #compute delta y loss from utility fit function\n",
    "\n",
    "    if len(pareto_bstray_numpy) > 2:\n",
    "        popt, pcov = curve_fit(y_util, pareto_bstray_numpy[:,0], pareto_kdiff_numpy[:,0], maxfev = 3000)\n",
    "\n",
    "        y_calc = torch.as_tensor(((1 /popt[0] * (pareto_bstray_numpy[:,0]**popt[1]))**popt[2])).cuda()\n",
    "        y_loss = pareto_kdiff[:,0] - y_calc\n",
    "        #y_loss = y_calc - pareto_kdiff[:,0]\n",
    "    elif len(pareto_bstray_numpy) > 0:\n",
    "        y_loss = pareto_kdiff[:,0]\n",
    "\n",
    "    # loss\n",
    "    #print(len(pareto_bstray))\n",
    "    #print(len(pareto_bstray.size()))\n",
    "\n",
    "    if len(pareto_bstray) > 0 and len(pareto_kdiff) > 0:\n",
    "        combined_loss = torch.mean(torch.log(y_loss) + 1)\n",
    "    else: \n",
    "        combined_loss = torch.mean(\n",
    "            bstray +\n",
    "            kdiff\n",
    "        )\n",
    "        print('used mean')\n",
    "\n",
    "    # Push loss through the optimizer and update the GP model\n",
    "    try:\n",
    "        combined_loss.backward(retain_graph=True)\n",
    "        optimizer.step()\n",
    "    except Exception as e:\n",
    "        print(f\"Error on epoch {epoch} regarding\", e)\n",
    "        break\n",
    "\n",
    "    # Log losses and other metrics\n",
    "    if epoch % 100 == 0:\n",
    "\n",
    "        # Store metrics for plotting or further logging\n",
    "        combined_losses.append(combined_loss.cpu().data.numpy())\n",
    "        kdiffs.append(.15 * torch.mean(kdiff).cpu().data.numpy())\n",
    "        bstrays.append(45 * torch.mean(bstray).cpu().data.numpy())\n",
    "        p_front_x.append(45 * pareto_bstray)\n",
    "        p_front_y.append(.15 * pareto_kdiff)\n",
    "        pareto_bstray_points.append(45 * pareto_bstray[:].cpu().detach().numpy())\n",
    "        pareto_kdiff_points.append(.15 * pareto_kdiff[:].cpu().detach().numpy())\n",
    "\n",
    "\n",
    "        print(f\"Epoch: {epoch:4d}\")\n",
    "        print(f\"  Combined Loss:  {combined_losses[-1]:.10f}\")\n",
    "        print(f\"  Kdiff :         {100 * kdiffs[-1]:.4f}%\")\n",
    "        print(f\"  Bstray :        {bstrays[-1]:.4f}\")\n",
    "        print(f\"  Pareto Kdiff :  {100 * torch.mean(p_front_y[-1]).cpu().data.numpy():.4f}%\")\n",
    "        print(f\"  Pareto Bstray : {torch.mean(p_front_x[-1]).cpu().data.numpy():.4f}\")\n",
    "\n",
    "        # Save model for further training or testing\n",
    "        torch.save(gp_model, f\"./models/gp_model_{epoch:06}.pt\")"
   ]
  },
  {
   "cell_type": "markdown",
   "metadata": {},
   "source": [
    "# Plotting"
   ]
  },
  {
   "cell_type": "code",
   "execution_count": 24,
   "metadata": {},
   "outputs": [
    {
     "data": {
      "text/plain": [
       "[<matplotlib.lines.Line2D at 0x24255f4b9d0>]"
      ]
     },
     "execution_count": 24,
     "metadata": {},
     "output_type": "execute_result"
    },
    {
     "data": {
      "image/png": "[encoded data removed]",
      "text/plain": [
       "<Figure size 432x288 with 1 Axes>"
      ]
     },
     "metadata": {
      "needs_background": "light"
     },
     "output_type": "display_data"
    }
   ],
   "source": [
    "noise = generate_noise(shape=(10_000, 10))\n",
    "gp = gp_model(noise)\n",
    "\n",
    "# Unpack and filter GP parameters\n",
    "a, lpx, lpy, ls, p, wp, ws, ip, np, ns, ys = scale_and_extract(gp)\n",
    "gp_parameters = stack_parameters(a, lpx, lpy, ls, p, wp, ws, *ys)\n",
    "extra_parameters = stack_parameters(ip, np, ns).transpose(0, 1)\n",
    "\n",
    "# Push GP parameters through MP model\n",
    "mp_parameters = mp_model(gp_parameters)\n",
    "\n",
    "# Scale MP parameters\n",
    "y = torch.Tensor(df_mp.values).transpose(0, 1).to(\"cuda\")\n",
    "min_y = torch.min(y, 1).values\n",
    "max_y = torch.max(y, 1).values\n",
    "mp_parameters = mp_parameters * (max_y - min_y) + min_y\n",
    "\n",
    "k_parameters = mp_parameters.transpose(0, 1)[0:6]\n",
    "l_parameters = mp_parameters.transpose(0, 1)[6:18]\n",
    "b_parameters = mp_parameters.transpose(0, 1)[18:]\n",
    "\n",
    "# Calculate losses\n",
    "kdiff = kdiff_loss(k_parameters)\n",
    "bstray = bstray_loss(k_parameters, l_parameters, b_parameters, extra_parameters)\n",
    "\n",
    "pareto_bstray, pareto_kdiff = pareto_frontier(bstray, kdiff)\n",
    "pareto_kdiff = pareto_kdiff * 100\n",
    "\n",
    "plt.plot(pareto_bstray.detach().cpu(), pareto_kdiff.detach().cpu())"
   ]
  },
  {
   "cell_type": "code",
   "execution_count": 25,
   "metadata": {},
   "outputs": [
    {
     "data": {
      "image/png": "[encoded data removed]",
      "text/plain": [
       "<Figure size 432x288 with 1 Axes>"
      ]
     },
     "metadata": {
      "needs_background": "light"
     },
     "output_type": "display_data"
    }
   ],
   "source": [
    "noise = generate_noise(shape=(25_000, 10))\n",
    "gp = gp_model(noise)\n",
    "\n",
    "# Unpack and filter GP parameters\n",
    "a, lpx, lpy, ls, p, wp, ws, ip, np, ns, ys = scale_and_extract(gp)\n",
    "gp_parameters = stack_parameters(a, lpx, lpy, ls, p, wp, ws, *ys)\n",
    "extra_parameters = stack_parameters(ip, np, ns).transpose(0, 1)\n",
    "\n",
    "# Push GP parameters through MP model\n",
    "mp_parameters = mp_model(gp_parameters)\n",
    "\n",
    "# Scale MP parameters\n",
    "y = torch.Tensor(df_mp.values).transpose(0, 1).to(\"cuda\")\n",
    "min_y = torch.min(y, 1).values\n",
    "max_y = torch.max(y, 1).values\n",
    "mp_parameters = mp_parameters * (max_y - min_y) + min_y\n",
    "\n",
    "k_parameters = mp_parameters.transpose(0, 1)[0:6]\n",
    "l_parameters = mp_parameters.transpose(0, 1)[6:18]\n",
    "b_parameters = mp_parameters.transpose(0, 1)[18:]\n",
    "\n",
    "# Calculate losses\n",
    "kdiff = kdiff_loss(k_parameters)\n",
    "bstray = bstray_loss(k_parameters, l_parameters, b_parameters, extra_parameters)\n",
    "\n",
    "plt.scatter(bstray.detach().cpu(), kdiff.detach().cpu())\n",
    "plt.title(\"Randomly generated points after GP reshaping\")\n",
    "plt.xlabel(\"Bstray\")\n",
    "plt.ylabel(\"Kdiff\")\n",
    "plt.show()"
   ]
  },
  {
   "cell_type": "code",
   "execution_count": 26,
   "metadata": {},
   "outputs": [
    {
     "name": "stdout",
     "output_type": "stream",
     "text": [
      "Noise 0\n",
      "[ 0.55158424 -0.745013    0.69308853  0.5083493  -0.35753787 -0.7390202\n",
      "  0.29427218 -0.14863455  0.15522993 -0.05299556]\n",
      "\n",
      "Generated Parameters 0\n",
      "[0.41420674 0.20676552 0.2415155  0.18481441 0.4620031  0.2879369\n",
      " 0.68172616 0.68171865 0.50589395 0.43833435]\n",
      "\n",
      "Noise 1\n",
      "[ 0.07366049 -0.2933091   0.86262023 -0.46959186 -0.18674314  0.7915963\n",
      " -0.01342487  0.37547565 -0.2495724   0.08281946]\n",
      "\n",
      "Generated Parameters 1\n",
      "[0.80738544 0.9987062  0.9934889  0.99783546 0.34047693 0.96500677\n",
      " 0.14728576 0.04173407 0.294474   0.774755  ]\n",
      "\n",
      "Noise 2\n",
      "[-0.905509    0.7487302   0.42231274 -0.56126916  0.3108945  -0.84638834\n",
      " -0.24407852 -0.7154496  -0.16614842 -0.15136397]\n",
      "\n",
      "Generated Parameters 2\n",
      "[0.30330187 0.00616231 0.01908658 0.00834554 0.59665334 0.11177728\n",
      " 0.58564675 0.80347705 0.7338309  0.29548874]\n",
      "\n"
     ]
    }
   ],
   "source": [
    "noise = generate_noise(shape=(3, 10))\n",
    "gp = gp_model(noise)\n",
    "\n",
    "noise = noise.cpu().numpy()\n",
    "gp = gp.cpu().detach().numpy()\n",
    "\n",
    "for i in range(3):\n",
    "    print(f\"Noise {i}\")\n",
    "    print(noise[i])\n",
    "    print()\n",
    "    print(f\"Generated Parameters {i}\")\n",
    "    print(gp[i])\n",
    "    print()"
   ]
  },
  {
   "cell_type": "code",
   "execution_count": 27,
   "metadata": {},
   "outputs": [
    {
     "data": {
      "image/png": "[encoded data removed]",
      "text/plain": [
       "<Figure size 720x360 with 1 Axes>"
      ]
     },
     "metadata": {
      "needs_background": "light"
     },
     "output_type": "display_data"
    },
    {
     "data": {
      "image/png": "[encoded data removed]",
      "text/plain": [
       "<Figure size 720x360 with 1 Axes>"
      ]
     },
     "metadata": {
      "needs_background": "light"
     },
     "output_type": "display_data"
    }
   ],
   "source": [
    "plt.figure(figsize=(10, 5))\n",
    "plt.title(f\"KDiff Error During Training\")\n",
    "plt.xlabel(\"Epoch\")\n",
    "plt.ylabel(\"Coupling %\")\n",
    "\n",
    "plt.plot(numpy.arange(len(kdiffs)), kdiffs)\n",
    "plt.show()\n",
    "\n",
    "\n",
    "plt.figure(figsize=(10, 5))\n",
    "plt.title(f\"BStray Error During Training\")\n",
    "plt.xlabel(\"Epoch\")\n",
    "plt.ylabel(\"BStray\")\n",
    "\n",
    "plt.plot(numpy.arange(len(bstrays)), bstrays)\n",
    "plt.show()"
   ]
  },
  {
   "cell_type": "code",
   "execution_count": 30,
   "metadata": {},
   "outputs": [
    {
     "name": "stdout",
     "output_type": "stream",
     "text": [
      "10 10\n"
     ]
    },
    {
     "data": {
      "image/png": "[encoded data removed]",
      "text/plain": [
       "<Figure size 720x360 with 1 Axes>"
      ]
     },
     "metadata": {
      "needs_background": "light"
     },
     "output_type": "display_data"
    },
    {
     "data": {
      "text/plain": [
       "'\\nplt.figure(figsize=(10, 5))\\nplt.title(f\"Pareto Kdiff During Training\")\\nplt.xlabel(\"Epoch\")\\nplt.ylabel(\"Coupling %\")\\n\\nfor x in pareto_kdiff_points:\\n    plt.plot(x)\\nplt.show()\\n'"
      ]
     },
     "execution_count": 30,
     "metadata": {},
     "output_type": "execute_result"
    },
    {
     "data": {
      "text/plain": [
       "<Figure size 432x288 with 0 Axes>"
      ]
     },
     "metadata": {},
     "output_type": "display_data"
    }
   ],
   "source": [
    "i = 0\n",
    "plt.figure(figsize=(10, 5))\n",
    "plt.suptitle(f\"Pareto Bstray vs Kdiff During Training\")\n",
    "plt.title(\"1000 epochs, 256 noise, log(y)+1\")\n",
    "plt.xlabel(\"Bstray\")\n",
    "plt.ylabel(\"Coupling %\")\n",
    "\n",
    "print(len(pareto_bstray_points), len(pareto_kdiff_points))\n",
    "\n",
    "while i < len(pareto_bstray_points):\n",
    "    plt.plot(pareto_bstray_points[i], pareto_kdiff_points[i], label = f\"epoch: {i*100}\")\n",
    "    i+=1\n",
    "plt.legend()\n",
    "plt.show()\n",
    "#plt.savefig('Pareto_Bstray_Kdiff_1000Epoch_256Noise_log(y)+1.png')\n",
    "\n",
    "'''\n",
    "plt.figure(figsize=(10, 5))\n",
    "plt.title(f\"Pareto Kdiff During Training\")\n",
    "plt.xlabel(\"Epoch\")\n",
    "plt.ylabel(\"Coupling %\")\n",
    "\n",
    "for x in pareto_kdiff_points:\n",
    "    plt.plot(x)\n",
    "plt.show()\n",
    "'''"
   ]
  },
  {
   "cell_type": "code",
   "execution_count": 29,
   "metadata": {},
   "outputs": [
    {
     "name": "stdout",
     "output_type": "stream",
     "text": [
      "[tensor([[27.8159],\n",
      "        [28.4659],\n",
      "        [28.8300]], device='cuda:0', grad_fn=<MulBackward0>), tensor([[28.3933],\n",
      "        [29.0372],\n",
      "        [29.1763],\n",
      "        [29.5872]], device='cuda:0', grad_fn=<MulBackward0>), tensor([[25.4882],\n",
      "        [25.8391]], device='cuda:0', grad_fn=<MulBackward0>), tensor([[22.4831],\n",
      "        [22.5128],\n",
      "        [22.5999]], device='cuda:0', grad_fn=<MulBackward0>), tensor([[22.9630]], device='cuda:0', grad_fn=<MulBackward0>), tensor([[22.5999],\n",
      "        [22.6004],\n",
      "        [22.7757],\n",
      "        [22.7932]], device='cuda:0', grad_fn=<MulBackward0>), tensor([[22.8087],\n",
      "        [22.8585],\n",
      "        [22.9026]], device='cuda:0', grad_fn=<MulBackward0>), tensor([[23.0683],\n",
      "        [23.0693],\n",
      "        [23.0784],\n",
      "        [23.0878],\n",
      "        [23.1225],\n",
      "        [23.2096]], device='cuda:0', grad_fn=<MulBackward0>), tensor([[23.2174]], device='cuda:0', grad_fn=<MulBackward0>), tensor([[24.3207],\n",
      "        [24.3717]], device='cuda:0', grad_fn=<MulBackward0>)]\n"
     ]
    }
   ],
   "source": [
    "print(p_front_x)"
   ]
  },
  {
   "cell_type": "code",
   "execution_count": null,
   "metadata": {},
   "outputs": [],
   "source": []
  }
 ],
 "metadata": {
  "accelerator": "GPU",
  "colab": {
   "collapsed_sections": [],
   "name": "optimization_date4_22_22.ipynb",
   "provenance": []
  },
  "kernelspec": {
   "display_name": "Python 3 (ipykernel)",
   "language": "python",
   "name": "python3"
  },
  "language_info": {
   "codemirror_mode": {
    "name": "ipython",
    "version": 3
   },
   "file_extension": ".py",
   "mimetype": "text/x-python",
   "name": "python",
   "nbconvert_exporter": "python",
   "pygments_lexer": "ipython3",
   "version": "3.9.12"
  }
 },
 "nbformat": 4,
 "nbformat_minor": 4
}
